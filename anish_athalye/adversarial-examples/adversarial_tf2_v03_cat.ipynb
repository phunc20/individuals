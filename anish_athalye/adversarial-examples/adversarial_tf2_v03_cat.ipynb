{
 "cells": [
  {
   "cell_type": "markdown",
   "metadata": {},
   "source": [
    "# Setup\n",
    "Because we switch to `tf2`, instead of using `tf.slim`, we will use `tf.keras` for the inception model."
   ]
  },
  {
   "cell_type": "code",
   "execution_count": 1,
   "metadata": {
    "scrolled": true
   },
   "outputs": [],
   "source": [
    "%matplotlib inline\n",
    "import matplotlib.pyplot as plt\n",
    "import matplotlib as mpl\n",
    "from PIL import Image\n",
    "\n",
    "from tqdm.notebook import tqdm"
   ]
  },
  {
   "cell_type": "code",
   "execution_count": 2,
   "metadata": {},
   "outputs": [],
   "source": [
    "mpl.rc('axes', labelsize=14)\n",
    "mpl.rc('xtick', labelsize=12)\n",
    "mpl.rc('ytick', labelsize=12)\n",
    "\n",
    "DARK_READER = True\n",
    "if DARK_READER:\n",
    "    plt.rcParams.update({\n",
    "        \"lines.color\": \"white\",\n",
    "        \"patch.edgecolor\": \"white\",\n",
    "        \"text.color\": \"black\",\n",
    "        \"axes.facecolor\": \"black\",\n",
    "        \"axes.edgecolor\": \"lightgray\",\n",
    "        \"axes.labelcolor\": \"white\",\n",
    "        \"axes.titlecolor\": \"white\",\n",
    "        \"xtick.color\": \"white\",\n",
    "        \"ytick.color\": \"white\",\n",
    "        \"grid.color\": \"lightgray\",\n",
    "        \"figure.facecolor\": \"black\",\n",
    "        \"figure.edgecolor\": \"black\",\n",
    "        \"savefig.facecolor\": \"black\",\n",
    "        \"savefig.edgecolor\": \"black\",\n",
    "    })"
   ]
  },
  {
   "cell_type": "code",
   "execution_count": 3,
   "metadata": {},
   "outputs": [
    {
     "name": "stderr",
     "output_type": "stream",
     "text": [
      "2021-08-04 00:31:59.478261: W tensorflow/stream_executor/platform/default/dso_loader.cc:64] Could not load dynamic library 'libcudart.so.11.0'; dlerror: libcudart.so.11.0: cannot open shared object file: No such file or directory\n",
      "2021-08-04 00:31:59.478302: I tensorflow/stream_executor/cuda/cudart_stub.cc:29] Ignore above cudart dlerror if you do not have a GPU set up on your machine.\n"
     ]
    },
    {
     "data": {
      "text/plain": [
       "('2.5.0', '2.5.0')"
      ]
     },
     "execution_count": 3,
     "metadata": {},
     "output_type": "execute_result"
    }
   ],
   "source": [
    "import numpy as np\n",
    "import tensorflow as tf\n",
    "import tensorflow.keras as keras\n",
    "tf.__version__, keras.__version__"
   ]
  },
  {
   "cell_type": "code",
   "execution_count": 4,
   "metadata": {},
   "outputs": [
    {
     "name": "stderr",
     "output_type": "stream",
     "text": [
      "2021-08-04 00:32:00.893204: W tensorflow/stream_executor/platform/default/dso_loader.cc:64] Could not load dynamic library 'libcuda.so.1'; dlerror: libcuda.so.1: cannot open shared object file: No such file or directory\n",
      "2021-08-04 00:32:00.893249: W tensorflow/stream_executor/cuda/cuda_driver.cc:326] failed call to cuInit: UNKNOWN ERROR (303)\n",
      "2021-08-04 00:32:00.893279: I tensorflow/stream_executor/cuda/cuda_diagnostics.cc:156] kernel driver does not appear to be running on this host (homography-x220t): /proc/driver/nvidia/version does not exist\n"
     ]
    },
    {
     "data": {
      "text/plain": [
       "(<tensorflow.python.keras.engine.functional.Functional at 0x7f915ed09050>,\n",
       " tensorflow.python.keras.engine.functional.Functional)"
      ]
     },
     "execution_count": 4,
     "metadata": {},
     "output_type": "execute_result"
    }
   ],
   "source": [
    "inception_model = keras.applications.inception_v3.InceptionV3()\n",
    "inception_model, type(inception_model)"
   ]
  },
  {
   "cell_type": "code",
   "execution_count": 5,
   "metadata": {},
   "outputs": [
    {
     "data": {
      "text/plain": [
       "True"
      ]
     },
     "execution_count": 5,
     "metadata": {},
     "output_type": "execute_result"
    }
   ],
   "source": [
    "isinstance(inception_model, keras.Model)"
   ]
  },
  {
   "cell_type": "code",
   "execution_count": 6,
   "metadata": {},
   "outputs": [],
   "source": [
    "def non_dunder(obj, strict=False):\n",
    "    if strict:\n",
    "        prefix = \"_\"\n",
    "    else:\n",
    "        prefix = \"__\"\n",
    "    return [s for s in dir(obj) if not s.startswith(prefix)]"
   ]
  },
  {
   "cell_type": "markdown",
   "metadata": {},
   "source": [
    "Since our goal is not to train new Inception weights, let's freeze the trainable parameters."
   ]
  },
  {
   "cell_type": "code",
   "execution_count": 7,
   "metadata": {},
   "outputs": [
    {
     "data": {
      "text/plain": [
       "False"
      ]
     },
     "execution_count": 7,
     "metadata": {},
     "output_type": "execute_result"
    }
   ],
   "source": [
    "inception_model.trainable = False\n",
    "inception_model.trainable"
   ]
  },
  {
   "cell_type": "code",
   "execution_count": 8,
   "metadata": {
    "scrolled": false
   },
   "outputs": [
    {
     "data": {
      "text/plain": [
       "([], [])"
      ]
     },
     "execution_count": 8,
     "metadata": {},
     "output_type": "execute_result"
    }
   ],
   "source": [
    "inception_model.trainable_weights, inception_model.trainable_variables"
   ]
  },
  {
   "cell_type": "code",
   "execution_count": 9,
   "metadata": {},
   "outputs": [
    {
     "data": {
      "text/plain": [
       "TensorShape([None, 299, 299, 3])"
      ]
     },
     "execution_count": 9,
     "metadata": {},
     "output_type": "execute_result"
    }
   ],
   "source": [
    "inception_model.layers[0].input.shape"
   ]
  },
  {
   "cell_type": "markdown",
   "metadata": {},
   "source": [
    "There are at least two aspects of Inception that is worth paying attention to\n",
    "\n",
    "01. It expects input images of shape `(299, 299, 3)`\n",
    "02. It expects input images of dtype `float32` in the range of $[-1, 1]$\n",
    "\n",
    "The range $[-1, 1]$ will cause some trouble if we handle it carelessly. For example,\n",
    "\n",
    "- `matplotlib` expects images of range `uint8` or $[0, 1]$ (`float32`). If you feed it an image of range $[-1, 1]$, it will simply clip values less than $0$ to $0$.\n",
    "\n",
    "`keras` does kindly provide us a convenience function to preprocess input images:"
   ]
  },
  {
   "cell_type": "code",
   "execution_count": 10,
   "metadata": {},
   "outputs": [],
   "source": [
    "from tensorflow.keras.applications.inception_v3 import preprocess_input"
   ]
  },
  {
   "cell_type": "raw",
   "metadata": {},
   "source": [
    "help(preprocess_input)"
   ]
  },
  {
   "cell_type": "code",
   "execution_count": 13,
   "metadata": {},
   "outputs": [
    {
     "data": {
      "text/plain": [
       "array([[[-1., -1., -1.],\n",
       "        [-1., -1., -1.]],\n",
       "\n",
       "       [[-1., -1., -1.],\n",
       "        [-1., -1., -1.]]], dtype=float32)"
      ]
     },
     "execution_count": 13,
     "metadata": {},
     "output_type": "execute_result"
    }
   ],
   "source": [
    "preprocess_input(\n",
    "    np.random.randint(low=0, high=1, size=(2,2,3)))"
   ]
  },
  {
   "cell_type": "code",
   "execution_count": 14,
   "metadata": {},
   "outputs": [
    {
     "data": {
      "text/plain": [
       "<tf.Tensor: shape=(2, 2, 3), dtype=float32, numpy=\n",
       "array([[[-0.38823527, -0.27058822, -0.21568626],\n",
       "        [-0.11372548,  0.64705884, -0.45098037]],\n",
       "\n",
       "       [[-0.67058825, -0.654902  ,  0.39607847],\n",
       "        [ 0.36470592,  0.06666672,  0.5921569 ]]], dtype=float32)>"
      ]
     },
     "execution_count": 14,
     "metadata": {},
     "output_type": "execute_result"
    }
   ],
   "source": [
    "random_tensor = tf.constant(\n",
    "    np.random.randint(low=0, high=255, size=(2,2,3)),\n",
    "    dtype=tf.float32,\n",
    ")\n",
    "#random_tensor.dtype\n",
    "preprocess_input(random_tensor)"
   ]
  },
  {
   "cell_type": "markdown",
   "metadata": {},
   "source": [
    "Let's wrap this preprocessing function around the Keras Inception model to make a frequently used function in future steps."
   ]
  },
  {
   "cell_type": "code",
   "execution_count": 15,
   "metadata": {},
   "outputs": [],
   "source": [
    "def inception(image):\n",
    "    if isinstance(image, tf.Variable):\n",
    "        #image.assign(preprocess_input(image.numpy()))\n",
    "        # No need, because our tf.Variable is already of dtype float32\n",
    "        pass\n",
    "    #elif isinstance(image, np.ndarray) and image.dtype == np.uint8:\n",
    "    elif isinstance(image, np.ndarray) and not np.any(image < 0):\n",
    "        image = preprocess_input(image)\n",
    "\n",
    "    # For tf.Tensor and np.ndarray, len(image.shape) equals image.ndims,\n",
    "    # but since we also expect input as tf.Variable, we have to use len(image.shape)\n",
    "    if len(image.shape) == 3:\n",
    "        image_batch = tf.expand_dims(image, axis=0)\n",
    "\n",
    "    return inception_model(image_batch)[0]"
   ]
  },
  {
   "cell_type": "code",
   "execution_count": 16,
   "metadata": {},
   "outputs": [],
   "source": [
    "import json\n",
    "from pathlib import Path\n",
    "from urllib.request import urlretrieve"
   ]
  },
  {
   "cell_type": "raw",
   "metadata": {},
   "source": [
    "help(urlretrieve)"
   ]
  },
  {
   "cell_type": "code",
   "execution_count": 17,
   "metadata": {
    "scrolled": true
   },
   "outputs": [
    {
     "data": {
      "text/plain": [
       "['Afghan hound, Afghan',\n",
       " 'African chameleon, Chamaeleo chamaeleon',\n",
       " 'African crocodile, Nile crocodile, Crocodylus niloticus',\n",
       " 'African elephant, Loxodonta africana',\n",
       " 'African grey, African gray, Psittacus erithacus',\n",
       " 'African hunting dog, hyena dog, Cape hunting dog, Lycaon pictus',\n",
       " 'Airedale, Airedale terrier',\n",
       " 'American Staffordshire terrier, Staffordshire terrier, American pit bull terrier, pit bull terrier',\n",
       " 'American alligator, Alligator mississipiensis',\n",
       " 'American black bear, black bear, Ursus americanus, Euarctos americanus',\n",
       " 'American chameleon, anole, Anolis carolinensis',\n",
       " 'American coot, marsh hen, mud hen, water hen, Fulica americana',\n",
       " 'American egret, great white heron, Egretta albus',\n",
       " 'American lobster, Northern lobster, Maine lobster, Homarus americanus',\n",
       " 'Angora, Angora rabbit',\n",
       " 'Appenzeller',\n",
       " 'Arabian camel, dromedary, Camelus dromedarius',\n",
       " 'Arctic fox, white fox, Alopex lagopus',\n",
       " 'Australian terrier',\n",
       " 'Band Aid',\n",
       " 'Bedlington terrier',\n",
       " 'Bernese mountain dog',\n",
       " 'Blenheim spaniel',\n",
       " 'Border collie',\n",
       " 'Border terrier',\n",
       " 'Boston bull, Boston terrier',\n",
       " 'Bouvier des Flandres, Bouviers des Flandres',\n",
       " 'Brabancon griffon',\n",
       " 'Brittany spaniel',\n",
       " 'CD player',\n",
       " 'Cardigan, Cardigan Welsh corgi',\n",
       " 'Chesapeake Bay retriever',\n",
       " 'Chihuahua',\n",
       " 'Christmas stocking',\n",
       " 'Crock Pot',\n",
       " 'Dandie Dinmont, Dandie Dinmont terrier',\n",
       " 'Doberman, Doberman pinscher',\n",
       " 'Dungeness crab, Cancer magister',\n",
       " 'Dutch oven',\n",
       " 'Egyptian cat',\n",
       " 'English foxhound',\n",
       " 'English setter',\n",
       " 'English springer, English springer spaniel',\n",
       " 'EntleBucher',\n",
       " 'Eskimo dog, husky',\n",
       " 'European fire salamander, Salamandra salamandra',\n",
       " 'European gallinule, Porphyrio porphyrio',\n",
       " 'French bulldog',\n",
       " 'French horn, horn',\n",
       " 'French loaf',\n",
       " 'German shepherd, German shepherd dog, German police dog, alsatian',\n",
       " 'German short-haired pointer',\n",
       " 'Gila monster, Heloderma suspectum',\n",
       " 'Gordon setter',\n",
       " 'Granny Smith',\n",
       " 'Great Dane',\n",
       " 'Great Pyrenees',\n",
       " 'Greater Swiss Mountain dog',\n",
       " 'Ibizan hound, Ibizan Podenco',\n",
       " 'Indian cobra, Naja naja',\n",
       " 'Indian elephant, Elephas maximus',\n",
       " 'Irish setter, red setter',\n",
       " 'Irish terrier',\n",
       " 'Irish water spaniel',\n",
       " 'Irish wolfhound',\n",
       " 'Italian greyhound',\n",
       " 'Japanese spaniel',\n",
       " 'Kerry blue terrier',\n",
       " 'Komodo dragon, Komodo lizard, dragon lizard, giant lizard, Varanus komodoensis',\n",
       " 'Labrador retriever',\n",
       " 'Lakeland terrier',\n",
       " 'Leonberg',\n",
       " 'Lhasa, Lhasa apso',\n",
       " 'Loafer',\n",
       " 'Madagascar cat, ring-tailed lemur, Lemur catta',\n",
       " 'Maltese dog, Maltese terrier, Maltese',\n",
       " 'Mexican hairless',\n",
       " 'Model T',\n",
       " 'Newfoundland, Newfoundland dog',\n",
       " 'Norfolk terrier',\n",
       " 'Norwegian elkhound, elkhound',\n",
       " 'Norwich terrier',\n",
       " 'Old English sheepdog, bobtail',\n",
       " 'Pekinese, Pekingese, Peke',\n",
       " 'Pembroke, Pembroke Welsh corgi',\n",
       " 'Persian cat',\n",
       " 'Petri dish',\n",
       " 'Polaroid camera, Polaroid Land camera',\n",
       " 'Pomeranian',\n",
       " 'Rhodesian ridgeback',\n",
       " 'Rottweiler',\n",
       " 'Saint Bernard, St Bernard',\n",
       " 'Saluki, gazelle hound',\n",
       " 'Samoyed, Samoyede',\n",
       " 'Scotch terrier, Scottish terrier, Scottie',\n",
       " 'Scottish deerhound, deerhound',\n",
       " 'Sealyham terrier, Sealyham',\n",
       " 'Shetland sheepdog, Shetland sheep dog, Shetland',\n",
       " 'Shih-Tzu',\n",
       " 'Siamese cat, Siamese',\n",
       " 'Siberian husky',\n",
       " 'Staffordshire bullterrier, Staffordshire bull terrier',\n",
       " 'Sussex spaniel',\n",
       " 'Tibetan mastiff',\n",
       " 'Tibetan terrier, chrysanthemum dog',\n",
       " 'Walker hound, Walker foxhound',\n",
       " 'Weimaraner',\n",
       " 'Welsh springer spaniel',\n",
       " 'West Highland white terrier',\n",
       " 'Windsor tie',\n",
       " 'Yorkshire terrier',\n",
       " 'abacus',\n",
       " 'abaya',\n",
       " \"academic gown, academic robe, judge's robe\",\n",
       " 'accordion, piano accordion, squeeze box',\n",
       " 'acorn',\n",
       " 'acorn squash',\n",
       " 'acoustic guitar',\n",
       " 'admiral',\n",
       " 'affenpinscher, monkey pinscher, monkey dog',\n",
       " 'agama',\n",
       " 'agaric',\n",
       " 'aircraft carrier, carrier, flattop, attack aircraft carrier',\n",
       " 'airliner',\n",
       " 'airship, dirigible',\n",
       " 'albatross, mollymawk',\n",
       " 'alligator lizard',\n",
       " 'alp',\n",
       " 'altar',\n",
       " 'ambulance',\n",
       " 'amphibian, amphibious vehicle',\n",
       " 'analog clock',\n",
       " 'anemone fish',\n",
       " 'ant, emmet, pismire',\n",
       " 'apiary, bee house',\n",
       " 'apron',\n",
       " 'armadillo',\n",
       " 'artichoke, globe artichoke',\n",
       " 'ashcan, trash can, garbage can, wastebin, ash bin, ash-bin, ashbin, dustbin, trash barrel, trash bin',\n",
       " 'assault rifle, assault gun',\n",
       " 'axolotl, mud puppy, Ambystoma mexicanum',\n",
       " 'baboon',\n",
       " 'backpack, back pack, knapsack, packsack, rucksack, haversack',\n",
       " 'badger',\n",
       " 'bagel, beigel',\n",
       " 'bakery, bakeshop, bakehouse',\n",
       " 'balance beam, beam',\n",
       " 'bald eagle, American eagle, Haliaeetus leucocephalus',\n",
       " 'balloon',\n",
       " 'ballplayer, baseball player',\n",
       " 'ballpoint, ballpoint pen, ballpen, Biro',\n",
       " 'banana',\n",
       " 'banded gecko',\n",
       " 'banjo',\n",
       " 'bannister, banister, balustrade, balusters, handrail',\n",
       " 'barbell',\n",
       " 'barber chair',\n",
       " 'barbershop',\n",
       " 'barn',\n",
       " 'barn spider, Araneus cavaticus',\n",
       " 'barometer',\n",
       " 'barracouta, snoek',\n",
       " 'barrel, cask',\n",
       " 'barrow, garden cart, lawn cart, wheelbarrow',\n",
       " 'baseball',\n",
       " 'basenji',\n",
       " 'basketball',\n",
       " 'basset, basset hound',\n",
       " 'bassinet',\n",
       " 'bassoon',\n",
       " 'bath towel',\n",
       " 'bathing cap, swimming cap',\n",
       " 'bathtub, bathing tub, bath, tub',\n",
       " 'beach wagon, station wagon, wagon, estate car, beach waggon, station waggon, waggon',\n",
       " 'beacon, lighthouse, beacon light, pharos',\n",
       " 'beagle',\n",
       " 'beaker',\n",
       " 'bearskin, busby, shako',\n",
       " 'beaver',\n",
       " 'bee',\n",
       " 'bee eater',\n",
       " 'beer bottle',\n",
       " 'beer glass',\n",
       " 'bell cote, bell cot',\n",
       " 'bell pepper',\n",
       " 'bib',\n",
       " 'bicycle-built-for-two, tandem bicycle, tandem',\n",
       " 'bighorn, bighorn sheep, cimarron, Rocky Mountain bighorn, Rocky Mountain sheep, Ovis canadensis',\n",
       " 'bikini, two-piece',\n",
       " 'binder, ring-binder',\n",
       " 'binoculars, field glasses, opera glasses',\n",
       " 'birdhouse',\n",
       " 'bison',\n",
       " 'bittern',\n",
       " 'black and gold garden spider, Argiope aurantia',\n",
       " 'black grouse',\n",
       " 'black stork, Ciconia nigra',\n",
       " 'black swan, Cygnus atratus',\n",
       " 'black widow, Latrodectus mactans',\n",
       " 'black-and-tan coonhound',\n",
       " 'black-footed ferret, ferret, Mustela nigripes',\n",
       " 'bloodhound, sleuthhound',\n",
       " 'bluetick',\n",
       " 'boa constrictor, Constrictor constrictor',\n",
       " 'boathouse',\n",
       " 'bobsled, bobsleigh, bob',\n",
       " 'bolete',\n",
       " 'bolo tie, bolo, bola tie, bola',\n",
       " 'bonnet, poke bonnet',\n",
       " 'book jacket, dust cover, dust jacket, dust wrapper',\n",
       " 'bookcase',\n",
       " 'bookshop, bookstore, bookstall',\n",
       " 'borzoi, Russian wolfhound',\n",
       " 'bottlecap',\n",
       " 'bow',\n",
       " 'bow tie, bow-tie, bowtie',\n",
       " 'box turtle, box tortoise',\n",
       " 'boxer',\n",
       " 'brain coral',\n",
       " 'brambling, Fringilla montifringilla',\n",
       " 'brass, memorial tablet, plaque',\n",
       " 'brassiere, bra, bandeau',\n",
       " 'breakwater, groin, groyne, mole, bulwark, seawall, jetty',\n",
       " 'breastplate, aegis, egis',\n",
       " 'briard',\n",
       " 'broccoli',\n",
       " 'broom',\n",
       " 'brown bear, bruin, Ursus arctos',\n",
       " 'bubble',\n",
       " 'bucket, pail',\n",
       " 'buckeye, horse chestnut, conker',\n",
       " 'buckle',\n",
       " 'bulbul',\n",
       " 'bull mastiff',\n",
       " 'bullet train, bullet',\n",
       " 'bulletproof vest',\n",
       " 'bullfrog, Rana catesbeiana',\n",
       " 'burrito',\n",
       " 'bustard',\n",
       " 'butcher shop, meat market',\n",
       " 'butternut squash',\n",
       " 'cab, hack, taxi, taxicab',\n",
       " 'cabbage butterfly',\n",
       " 'cairn, cairn terrier',\n",
       " 'caldron, cauldron',\n",
       " 'can opener, tin opener',\n",
       " 'candle, taper, wax light',\n",
       " 'cannon',\n",
       " 'canoe',\n",
       " 'capuchin, ringtail, Cebus capucinus',\n",
       " 'car mirror',\n",
       " 'car wheel',\n",
       " 'carbonara',\n",
       " 'cardigan',\n",
       " 'cardoon',\n",
       " 'carousel, carrousel, merry-go-round, roundabout, whirligig',\n",
       " \"carpenter's kit, tool kit\",\n",
       " 'carton',\n",
       " 'cash machine, cash dispenser, automated teller machine, automatic teller machine, automated teller, automatic teller, ATM',\n",
       " 'cassette',\n",
       " 'cassette player',\n",
       " 'castle',\n",
       " 'catamaran',\n",
       " 'cauliflower',\n",
       " 'cello, violoncello',\n",
       " 'cellular telephone, cellular phone, cellphone, cell, mobile phone',\n",
       " 'centipede',\n",
       " 'chain',\n",
       " 'chain mail, ring mail, mail, chain armor, chain armour, ring armor, ring armour',\n",
       " 'chain saw, chainsaw',\n",
       " 'chainlink fence',\n",
       " 'chambered nautilus, pearly nautilus, nautilus',\n",
       " 'cheeseburger',\n",
       " 'cheetah, chetah, Acinonyx jubatus',\n",
       " 'chest',\n",
       " 'chickadee',\n",
       " 'chiffonier, commode',\n",
       " 'chime, bell, gong',\n",
       " 'chimpanzee, chimp, Pan troglodytes',\n",
       " 'china cabinet, china closet',\n",
       " 'chiton, coat-of-mail shell, sea cradle, polyplacophore',\n",
       " 'chocolate sauce, chocolate syrup',\n",
       " 'chow, chow chow',\n",
       " 'church, church building',\n",
       " 'cicada, cicala',\n",
       " 'cinema, movie theater, movie theatre, movie house, picture palace',\n",
       " 'cleaver, meat cleaver, chopper',\n",
       " 'cliff dwelling',\n",
       " 'cliff, drop, drop-off',\n",
       " 'cloak',\n",
       " 'clog, geta, patten, sabot',\n",
       " 'clumber, clumber spaniel',\n",
       " 'cock',\n",
       " 'cocker spaniel, English cocker spaniel, cocker',\n",
       " 'cockroach, roach',\n",
       " 'cocktail shaker',\n",
       " 'coffee mug',\n",
       " 'coffeepot',\n",
       " 'coho, cohoe, coho salmon, blue jack, silver salmon, Oncorhynchus kisutch',\n",
       " 'coil, spiral, volute, whorl, helix',\n",
       " 'collie',\n",
       " 'colobus, colobus monkey',\n",
       " 'combination lock',\n",
       " 'comic book',\n",
       " 'common iguana, iguana, Iguana iguana',\n",
       " 'common newt, Triturus vulgaris',\n",
       " 'computer keyboard, keypad',\n",
       " 'conch',\n",
       " 'confectionery, confectionary, candy store',\n",
       " 'consomme',\n",
       " 'container ship, containership, container vessel',\n",
       " 'convertible',\n",
       " 'coral fungus',\n",
       " 'coral reef',\n",
       " 'corkscrew, bottle screw',\n",
       " 'corn',\n",
       " 'cornet, horn, trumpet, trump',\n",
       " 'coucal',\n",
       " 'cougar, puma, catamount, mountain lion, painter, panther, Felis concolor',\n",
       " 'cowboy boot',\n",
       " 'cowboy hat, ten-gallon hat',\n",
       " 'coyote, prairie wolf, brush wolf, Canis latrans',\n",
       " 'cradle',\n",
       " 'crane',\n",
       " 'crane',\n",
       " 'crash helmet',\n",
       " 'crate',\n",
       " 'crayfish, crawfish, crawdad, crawdaddy',\n",
       " 'crib, cot',\n",
       " 'cricket',\n",
       " 'croquet ball',\n",
       " 'crossword puzzle, crossword',\n",
       " 'crutch',\n",
       " 'cucumber, cuke',\n",
       " 'cuirass',\n",
       " 'cup',\n",
       " 'curly-coated retriever',\n",
       " 'custard apple',\n",
       " 'daisy',\n",
       " 'dalmatian, coach dog, carriage dog',\n",
       " 'dam, dike, dyke',\n",
       " 'damselfly',\n",
       " 'desk',\n",
       " 'desktop computer',\n",
       " 'dhole, Cuon alpinus',\n",
       " 'dial telephone, dial phone',\n",
       " 'diamondback, diamondback rattlesnake, Crotalus adamanteus',\n",
       " 'diaper, nappy, napkin',\n",
       " 'digital clock',\n",
       " 'digital watch',\n",
       " 'dingo, warrigal, warragal, Canis dingo',\n",
       " 'dining table, board',\n",
       " 'dishrag, dishcloth',\n",
       " 'dishwasher, dish washer, dishwashing machine',\n",
       " 'disk brake, disc brake',\n",
       " 'dock, dockage, docking facility',\n",
       " 'dogsled, dog sled, dog sleigh',\n",
       " 'dome',\n",
       " 'doormat, welcome mat',\n",
       " 'dough',\n",
       " 'dowitcher',\n",
       " \"dragonfly, darning needle, devil's darning needle, sewing needle, snake feeder, snake doctor, mosquito hawk, skeeter hawk\",\n",
       " 'drake',\n",
       " 'drilling platform, offshore rig',\n",
       " 'drum, membranophone, tympan',\n",
       " 'drumstick',\n",
       " 'dugong, Dugong dugon',\n",
       " 'dumbbell',\n",
       " 'dung beetle',\n",
       " 'ear, spike, capitulum',\n",
       " 'earthstar',\n",
       " 'echidna, spiny anteater, anteater',\n",
       " 'eel',\n",
       " 'eft',\n",
       " 'eggnog',\n",
       " 'electric fan, blower',\n",
       " 'electric guitar',\n",
       " 'electric locomotive',\n",
       " 'electric ray, crampfish, numbfish, torpedo',\n",
       " 'entertainment center',\n",
       " 'envelope',\n",
       " 'espresso',\n",
       " 'espresso maker',\n",
       " 'face powder',\n",
       " 'feather boa, boa',\n",
       " 'fiddler crab',\n",
       " 'fig',\n",
       " 'file, file cabinet, filing cabinet',\n",
       " 'fire engine, fire truck',\n",
       " 'fire screen, fireguard',\n",
       " 'fireboat',\n",
       " 'flagpole, flagstaff',\n",
       " 'flamingo',\n",
       " 'flat-coated retriever',\n",
       " 'flatworm, platyhelminth',\n",
       " 'flute, transverse flute',\n",
       " 'fly',\n",
       " 'folding chair',\n",
       " 'football helmet',\n",
       " 'forklift',\n",
       " 'fountain',\n",
       " 'fountain pen',\n",
       " 'four-poster',\n",
       " 'fox squirrel, eastern fox squirrel, Sciurus niger',\n",
       " 'freight car',\n",
       " 'frilled lizard, Chlamydosaurus kingi',\n",
       " 'frying pan, frypan, skillet',\n",
       " 'fur coat',\n",
       " 'gar, garfish, garpike, billfish, Lepisosteus osseus',\n",
       " 'garbage truck, dustcart',\n",
       " 'garden spider, Aranea diademata',\n",
       " 'garter snake, grass snake',\n",
       " 'gas pump, gasoline pump, petrol pump, island dispenser',\n",
       " 'gasmask, respirator, gas helmet',\n",
       " 'gazelle',\n",
       " 'geyser',\n",
       " 'giant panda, panda, panda bear, coon bear, Ailuropoda melanoleuca',\n",
       " 'giant schnauzer',\n",
       " 'gibbon, Hylobates lar',\n",
       " 'go-kart',\n",
       " 'goblet',\n",
       " 'golden retriever',\n",
       " 'goldfinch, Carduelis carduelis',\n",
       " 'goldfish, Carassius auratus',\n",
       " 'golf ball',\n",
       " 'golfcart, golf cart',\n",
       " 'gondola',\n",
       " 'gong, tam-tam',\n",
       " 'goose',\n",
       " 'gorilla, Gorilla gorilla',\n",
       " 'gown',\n",
       " 'grand piano, grand',\n",
       " 'grasshopper, hopper',\n",
       " 'great grey owl, great gray owl, Strix nebulosa',\n",
       " 'great white shark, white shark, man-eater, man-eating shark, Carcharodon carcharias',\n",
       " 'green lizard, Lacerta viridis',\n",
       " 'green mamba',\n",
       " 'green snake, grass snake',\n",
       " 'greenhouse, nursery, glasshouse',\n",
       " 'grey fox, gray fox, Urocyon cinereoargenteus',\n",
       " 'grey whale, gray whale, devilfish, Eschrichtius gibbosus, Eschrichtius robustus',\n",
       " 'grille, radiator grille',\n",
       " 'grocery store, grocery, food market, market',\n",
       " 'groenendael',\n",
       " 'groom, bridegroom',\n",
       " 'ground beetle, carabid beetle',\n",
       " 'guacamole',\n",
       " 'guenon, guenon monkey',\n",
       " 'guillotine',\n",
       " 'guinea pig, Cavia cobaya',\n",
       " 'gyromitra',\n",
       " 'hair slide',\n",
       " 'hair spray',\n",
       " 'half track',\n",
       " 'hammer',\n",
       " 'hammerhead, hammerhead shark',\n",
       " 'hamper',\n",
       " 'hamster',\n",
       " 'hand blower, blow dryer, blow drier, hair dryer, hair drier',\n",
       " 'hand-held computer, hand-held microcomputer',\n",
       " 'handkerchief, hankie, hanky, hankey',\n",
       " 'hard disc, hard disk, fixed disk',\n",
       " 'hare',\n",
       " 'harmonica, mouth organ, harp, mouth harp',\n",
       " 'harp',\n",
       " 'hartebeest',\n",
       " 'harvester, reaper',\n",
       " 'harvestman, daddy longlegs, Phalangium opilio',\n",
       " 'hatchet',\n",
       " 'hay',\n",
       " 'head cabbage',\n",
       " 'hen',\n",
       " 'hen-of-the-woods, hen of the woods, Polyporus frondosus, Grifola frondosa',\n",
       " 'hermit crab',\n",
       " 'hip, rose hip, rosehip',\n",
       " 'hippopotamus, hippo, river horse, Hippopotamus amphibius',\n",
       " 'hog, pig, grunter, squealer, Sus scrofa',\n",
       " 'hognose snake, puff adder, sand viper',\n",
       " 'holster',\n",
       " 'home theater, home theatre',\n",
       " 'honeycomb',\n",
       " 'hook, claw',\n",
       " 'hoopskirt, crinoline',\n",
       " 'horizontal bar, high bar',\n",
       " 'hornbill',\n",
       " 'horned viper, cerastes, sand viper, horned asp, Cerastes cornutus',\n",
       " 'horse cart, horse-cart',\n",
       " 'hot pot, hotpot',\n",
       " 'hotdog, hot dog, red hot',\n",
       " 'hourglass',\n",
       " 'house finch, linnet, Carpodacus mexicanus',\n",
       " 'howler monkey, howler',\n",
       " 'hummingbird',\n",
       " 'hyena, hyaena',\n",
       " 'iPod',\n",
       " 'ibex, Capra ibex',\n",
       " 'ice bear, polar bear, Ursus Maritimus, Thalarctos maritimus',\n",
       " 'ice cream, icecream',\n",
       " 'ice lolly, lolly, lollipop, popsicle',\n",
       " 'impala, Aepyceros melampus',\n",
       " 'indigo bunting, indigo finch, indigo bird, Passerina cyanea',\n",
       " 'indri, indris, Indri indri, Indri brevicaudatus',\n",
       " 'iron, smoothing iron',\n",
       " 'isopod',\n",
       " 'jacamar',\n",
       " \"jack-o'-lantern\",\n",
       " 'jackfruit, jak, jack',\n",
       " 'jaguar, panther, Panthera onca, Felis onca',\n",
       " 'jay',\n",
       " 'jean, blue jean, denim',\n",
       " 'jeep, landrover',\n",
       " 'jellyfish',\n",
       " 'jersey, T-shirt, tee shirt',\n",
       " 'jigsaw puzzle',\n",
       " 'jinrikisha, ricksha, rickshaw',\n",
       " 'joystick',\n",
       " 'junco, snowbird',\n",
       " 'keeshond',\n",
       " 'kelpie',\n",
       " 'killer whale, killer, orca, grampus, sea wolf, Orcinus orca',\n",
       " 'kimono',\n",
       " 'king crab, Alaska crab, Alaskan king crab, Alaska king crab, Paralithodes camtschatica',\n",
       " 'king penguin, Aptenodytes patagonica',\n",
       " 'king snake, kingsnake',\n",
       " 'kit fox, Vulpes macrotis',\n",
       " 'kite',\n",
       " 'knee pad',\n",
       " 'knot',\n",
       " 'koala, koala bear, kangaroo bear, native bear, Phascolarctos cinereus',\n",
       " 'komondor',\n",
       " 'kuvasz',\n",
       " 'lab coat, laboratory coat',\n",
       " 'lacewing, lacewing fly',\n",
       " 'ladle',\n",
       " 'ladybug, ladybeetle, lady beetle, ladybird, ladybird beetle',\n",
       " 'lakeside, lakeshore',\n",
       " 'lampshade, lamp shade',\n",
       " 'langur',\n",
       " 'laptop, laptop computer',\n",
       " 'lawn mower, mower',\n",
       " 'leaf beetle, chrysomelid',\n",
       " 'leafhopper',\n",
       " 'leatherback turtle, leatherback, leathery turtle, Dermochelys coriacea',\n",
       " 'lemon',\n",
       " 'lens cap, lens cover',\n",
       " 'leopard, Panthera pardus',\n",
       " 'lesser panda, red panda, panda, bear cat, cat bear, Ailurus fulgens',\n",
       " 'letter opener, paper knife, paperknife',\n",
       " 'library',\n",
       " 'lifeboat',\n",
       " 'lighter, light, igniter, ignitor',\n",
       " 'limousine, limo',\n",
       " 'limpkin, Aramus pictus',\n",
       " 'liner, ocean liner',\n",
       " 'lion, king of beasts, Panthera leo',\n",
       " 'lionfish',\n",
       " 'lipstick, lip rouge',\n",
       " 'little blue heron, Egretta caerulea',\n",
       " 'llama',\n",
       " 'loggerhead, loggerhead turtle, Caretta caretta',\n",
       " 'long-horned beetle, longicorn, longicorn beetle',\n",
       " 'lorikeet',\n",
       " 'lotion',\n",
       " 'loudspeaker, speaker, speaker unit, loudspeaker system, speaker system',\n",
       " \"loupe, jeweler's loupe\",\n",
       " 'lumbermill, sawmill',\n",
       " 'lycaenid, lycaenid butterfly',\n",
       " 'lynx, catamount',\n",
       " 'macaque',\n",
       " 'macaw',\n",
       " 'magnetic compass',\n",
       " 'magpie',\n",
       " 'mailbag, postbag',\n",
       " 'mailbox, letter box',\n",
       " 'maillot',\n",
       " 'maillot, tank suit',\n",
       " 'malamute, malemute, Alaskan malamute',\n",
       " 'malinois',\n",
       " 'manhole cover',\n",
       " 'mantis, mantid',\n",
       " 'maraca',\n",
       " 'marimba, xylophone',\n",
       " 'marmoset',\n",
       " 'marmot',\n",
       " 'mashed potato',\n",
       " 'mask',\n",
       " 'matchstick',\n",
       " 'maypole',\n",
       " 'maze, labyrinth',\n",
       " 'measuring cup',\n",
       " 'meat loaf, meatloaf',\n",
       " 'medicine chest, medicine cabinet',\n",
       " 'meerkat, mierkat',\n",
       " 'megalith, megalithic structure',\n",
       " 'menu',\n",
       " 'microphone, mike',\n",
       " 'microwave, microwave oven',\n",
       " 'military uniform',\n",
       " 'milk can',\n",
       " 'miniature pinscher',\n",
       " 'miniature poodle',\n",
       " 'miniature schnauzer',\n",
       " 'minibus',\n",
       " 'miniskirt, mini',\n",
       " 'minivan',\n",
       " 'mink',\n",
       " 'missile',\n",
       " 'mitten',\n",
       " 'mixing bowl',\n",
       " 'mobile home, manufactured home',\n",
       " 'modem',\n",
       " 'monarch, monarch butterfly, milkweed butterfly, Danaus plexippus',\n",
       " 'monastery',\n",
       " 'mongoose',\n",
       " 'monitor',\n",
       " 'moped',\n",
       " 'mortar',\n",
       " 'mortarboard',\n",
       " 'mosque',\n",
       " 'mosquito net',\n",
       " 'motor scooter, scooter',\n",
       " 'mountain bike, all-terrain bike, off-roader',\n",
       " 'mountain tent',\n",
       " 'mouse, computer mouse',\n",
       " 'mousetrap',\n",
       " 'moving van',\n",
       " 'mud turtle',\n",
       " 'mushroom',\n",
       " 'muzzle',\n",
       " 'nail',\n",
       " 'neck brace',\n",
       " 'necklace',\n",
       " 'nematode, nematode worm, roundworm',\n",
       " 'night snake, Hypsiglena torquata',\n",
       " 'nipple',\n",
       " 'notebook, notebook computer',\n",
       " 'obelisk',\n",
       " 'oboe, hautboy, hautbois',\n",
       " 'ocarina, sweet potato',\n",
       " 'odometer, hodometer, mileometer, milometer',\n",
       " 'oil filter',\n",
       " 'orange',\n",
       " 'orangutan, orang, orangutang, Pongo pygmaeus',\n",
       " 'organ, pipe organ',\n",
       " 'oscilloscope, scope, cathode-ray oscilloscope, CRO',\n",
       " 'ostrich, Struthio camelus',\n",
       " 'otter',\n",
       " 'otterhound, otter hound',\n",
       " 'overskirt',\n",
       " 'ox',\n",
       " 'oxcart',\n",
       " 'oxygen mask',\n",
       " 'oystercatcher, oyster catcher',\n",
       " 'packet',\n",
       " 'paddle, boat paddle',\n",
       " 'paddlewheel, paddle wheel',\n",
       " 'padlock',\n",
       " 'paintbrush',\n",
       " \"pajama, pyjama, pj's, jammies\",\n",
       " 'palace',\n",
       " 'panpipe, pandean pipe, syrinx',\n",
       " 'paper towel',\n",
       " 'papillon',\n",
       " 'parachute, chute',\n",
       " 'parallel bars, bars',\n",
       " 'park bench',\n",
       " 'parking meter',\n",
       " 'partridge',\n",
       " 'passenger car, coach, carriage',\n",
       " 'patas, hussar monkey, Erythrocebus patas',\n",
       " 'patio, terrace',\n",
       " 'pay-phone, pay-station',\n",
       " 'peacock',\n",
       " 'pedestal, plinth, footstall',\n",
       " 'pelican',\n",
       " 'pencil box, pencil case',\n",
       " 'pencil sharpener',\n",
       " 'perfume, essence',\n",
       " 'photocopier',\n",
       " 'pick, plectrum, plectron',\n",
       " 'pickelhaube',\n",
       " 'picket fence, paling',\n",
       " 'pickup, pickup truck',\n",
       " 'pier',\n",
       " 'piggy bank, penny bank',\n",
       " 'pill bottle',\n",
       " 'pillow',\n",
       " 'pineapple, ananas',\n",
       " 'ping-pong ball',\n",
       " 'pinwheel',\n",
       " 'pirate, pirate ship',\n",
       " 'pitcher, ewer',\n",
       " 'pizza, pizza pie',\n",
       " \"plane, carpenter's plane, woodworking plane\",\n",
       " 'planetarium',\n",
       " 'plastic bag',\n",
       " 'plate',\n",
       " 'plate rack',\n",
       " 'platypus, duckbill, duckbilled platypus, duck-billed platypus, Ornithorhynchus anatinus',\n",
       " 'plow, plough',\n",
       " \"plunger, plumber's helper\",\n",
       " 'pole',\n",
       " 'polecat, fitch, foulmart, foumart, Mustela putorius',\n",
       " 'police van, police wagon, paddy wagon, patrol wagon, wagon, black Maria',\n",
       " 'pomegranate',\n",
       " 'poncho',\n",
       " 'pool table, billiard table, snooker table',\n",
       " 'pop bottle, soda bottle',\n",
       " 'porcupine, hedgehog',\n",
       " 'pot, flowerpot',\n",
       " 'potpie',\n",
       " \"potter's wheel\",\n",
       " 'power drill',\n",
       " 'prairie chicken, prairie grouse, prairie fowl',\n",
       " 'prayer rug, prayer mat',\n",
       " 'pretzel',\n",
       " 'printer',\n",
       " 'prison, prison house',\n",
       " 'proboscis monkey, Nasalis larvatus',\n",
       " 'projectile, missile',\n",
       " 'projector',\n",
       " 'promontory, headland, head, foreland',\n",
       " 'ptarmigan',\n",
       " 'puck, hockey puck',\n",
       " 'puffer, pufferfish, blowfish, globefish',\n",
       " 'pug, pug-dog',\n",
       " 'punching bag, punch bag, punching ball, punchball',\n",
       " 'purse',\n",
       " 'quail',\n",
       " 'quill, quill pen',\n",
       " 'quilt, comforter, comfort, puff',\n",
       " 'racer, race car, racing car',\n",
       " 'racket, racquet',\n",
       " 'radiator',\n",
       " 'radio telescope, radio reflector',\n",
       " 'radio, wireless',\n",
       " 'rain barrel',\n",
       " 'ram, tup',\n",
       " 'rapeseed',\n",
       " 'recreational vehicle, RV, R.V.',\n",
       " 'red fox, Vulpes vulpes',\n",
       " 'red wine',\n",
       " 'red wolf, maned wolf, Canis rufus, Canis niger',\n",
       " 'red-backed sandpiper, dunlin, Erolia alpina',\n",
       " 'red-breasted merganser, Mergus serrator',\n",
       " 'redbone',\n",
       " 'redshank, Tringa totanus',\n",
       " 'reel',\n",
       " 'reflex camera',\n",
       " 'refrigerator, icebox',\n",
       " 'remote control, remote',\n",
       " 'restaurant, eating house, eating place, eatery',\n",
       " 'revolver, six-gun, six-shooter',\n",
       " 'rhinoceros beetle',\n",
       " 'rifle',\n",
       " 'ringlet, ringlet butterfly',\n",
       " 'ringneck snake, ring-necked snake, ring snake',\n",
       " 'robin, American robin, Turdus migratorius',\n",
       " 'rock beauty, Holocanthus tricolor',\n",
       " 'rock crab, Cancer irroratus',\n",
       " 'rock python, rock snake, Python sebae',\n",
       " 'rocking chair, rocker',\n",
       " 'rotisserie',\n",
       " 'rubber eraser, rubber, pencil eraser',\n",
       " 'ruddy turnstone, Arenaria interpres',\n",
       " 'ruffed grouse, partridge, Bonasa umbellus',\n",
       " 'rugby ball',\n",
       " 'rule, ruler',\n",
       " 'running shoe',\n",
       " 'safe',\n",
       " 'safety pin',\n",
       " 'saltshaker, salt shaker',\n",
       " 'sandal',\n",
       " 'sandbar, sand bar',\n",
       " 'sarong',\n",
       " 'sax, saxophone',\n",
       " 'scabbard',\n",
       " 'scale, weighing machine',\n",
       " 'schipperke',\n",
       " 'school bus',\n",
       " 'schooner',\n",
       " 'scoreboard',\n",
       " 'scorpion',\n",
       " 'screen, CRT screen',\n",
       " 'screw',\n",
       " 'screwdriver',\n",
       " 'scuba diver',\n",
       " 'sea anemone, anemone',\n",
       " 'sea cucumber, holothurian',\n",
       " 'sea lion',\n",
       " 'sea slug, nudibranch',\n",
       " 'sea snake',\n",
       " 'sea urchin',\n",
       " 'seashore, coast, seacoast, sea-coast',\n",
       " 'seat belt, seatbelt',\n",
       " 'sewing machine',\n",
       " 'shield, buckler',\n",
       " 'shoe shop, shoe-shop, shoe store',\n",
       " 'shoji',\n",
       " 'shopping basket',\n",
       " 'shopping cart',\n",
       " 'shovel',\n",
       " 'shower cap',\n",
       " 'shower curtain',\n",
       " 'siamang, Hylobates syndactylus, Symphalangus syndactylus',\n",
       " 'sidewinder, horned rattlesnake, Crotalus cerastes',\n",
       " 'silky terrier, Sydney silky',\n",
       " 'ski',\n",
       " 'ski mask',\n",
       " 'skunk, polecat, wood pussy',\n",
       " 'sleeping bag',\n",
       " 'slide rule, slipstick',\n",
       " 'sliding door',\n",
       " 'slot, one-armed bandit',\n",
       " 'sloth bear, Melursus ursinus, Ursus ursinus',\n",
       " 'slug',\n",
       " 'snail',\n",
       " 'snorkel',\n",
       " 'snow leopard, ounce, Panthera uncia',\n",
       " 'snowmobile',\n",
       " 'snowplow, snowplough',\n",
       " 'soap dispenser',\n",
       " 'soccer ball',\n",
       " 'sock',\n",
       " 'soft-coated wheaten terrier',\n",
       " 'solar dish, solar collector, solar furnace',\n",
       " 'sombrero',\n",
       " 'sorrel',\n",
       " 'soup bowl',\n",
       " 'space bar',\n",
       " 'space heater',\n",
       " 'space shuttle',\n",
       " 'spaghetti squash',\n",
       " 'spatula',\n",
       " 'speedboat',\n",
       " 'spider monkey, Ateles geoffroyi',\n",
       " \"spider web, spider's web\",\n",
       " 'spindle',\n",
       " 'spiny lobster, langouste, rock lobster, crawfish, crayfish, sea crawfish',\n",
       " 'spoonbill',\n",
       " 'sports car, sport car',\n",
       " 'spotlight, spot',\n",
       " 'spotted salamander, Ambystoma maculatum',\n",
       " 'squirrel monkey, Saimiri sciureus',\n",
       " 'stage',\n",
       " 'standard poodle',\n",
       " 'standard schnauzer',\n",
       " 'starfish, sea star',\n",
       " 'steam locomotive',\n",
       " 'steel arch bridge',\n",
       " 'steel drum',\n",
       " 'stethoscope',\n",
       " 'stingray',\n",
       " 'stinkhorn, carrion fungus',\n",
       " 'stole',\n",
       " 'stone wall',\n",
       " 'stopwatch, stop watch',\n",
       " 'stove',\n",
       " 'strainer',\n",
       " 'strawberry',\n",
       " 'street sign',\n",
       " 'streetcar, tram, tramcar, trolley, trolley car',\n",
       " 'stretcher',\n",
       " 'studio couch, day bed',\n",
       " 'stupa, tope',\n",
       " 'sturgeon',\n",
       " 'submarine, pigboat, sub, U-boat',\n",
       " 'suit, suit of clothes',\n",
       " 'sulphur butterfly, sulfur butterfly',\n",
       " 'sulphur-crested cockatoo, Kakatoe galerita, Cacatua galerita',\n",
       " 'sundial',\n",
       " 'sunglass',\n",
       " 'sunglasses, dark glasses, shades',\n",
       " 'sunscreen, sunblock, sun blocker',\n",
       " 'suspension bridge',\n",
       " 'swab, swob, mop',\n",
       " 'sweatshirt',\n",
       " 'swimming trunks, bathing trunks',\n",
       " 'swing',\n",
       " 'switch, electric switch, electrical switch',\n",
       " 'syringe',\n",
       " 'tabby, tabby cat',\n",
       " 'table lamp',\n",
       " 'tailed frog, bell toad, ribbed toad, tailed toad, Ascaphus trui',\n",
       " 'tank, army tank, armored combat vehicle, armoured combat vehicle',\n",
       " 'tape player',\n",
       " 'tarantula',\n",
       " 'teapot',\n",
       " 'teddy, teddy bear',\n",
       " 'television, television system',\n",
       " 'tench, Tinca tinca',\n",
       " 'tennis ball',\n",
       " 'terrapin',\n",
       " 'thatch, thatched roof',\n",
       " 'theater curtain, theatre curtain',\n",
       " 'thimble',\n",
       " 'three-toed sloth, ai, Bradypus tridactylus',\n",
       " 'thresher, thrasher, threshing machine',\n",
       " 'throne',\n",
       " 'thunder snake, worm snake, Carphophis amoenus',\n",
       " 'tick',\n",
       " 'tiger beetle',\n",
       " 'tiger cat',\n",
       " 'tiger shark, Galeocerdo cuvieri',\n",
       " 'tiger, Panthera tigris',\n",
       " 'tile roof',\n",
       " 'timber wolf, grey wolf, gray wolf, Canis lupus',\n",
       " 'titi, titi monkey',\n",
       " 'toaster',\n",
       " 'tobacco shop, tobacconist shop, tobacconist',\n",
       " 'toilet seat',\n",
       " 'toilet tissue, toilet paper, bathroom tissue',\n",
       " 'torch',\n",
       " 'totem pole',\n",
       " 'toucan',\n",
       " 'tow truck, tow car, wrecker',\n",
       " 'toy poodle',\n",
       " 'toy terrier',\n",
       " 'toyshop',\n",
       " 'tractor',\n",
       " 'traffic light, traffic signal, stoplight',\n",
       " 'trailer truck, tractor trailer, trucking rig, rig, articulated lorry, semi',\n",
       " 'tray',\n",
       " 'tree frog, tree-frog',\n",
       " 'trench coat',\n",
       " 'triceratops',\n",
       " 'tricycle, trike, velocipede',\n",
       " 'trifle',\n",
       " 'trilobite',\n",
       " 'trimaran',\n",
       " 'tripod',\n",
       " 'triumphal arch',\n",
       " 'trolleybus, trolley coach, trackless trolley',\n",
       " 'trombone',\n",
       " 'tub, vat',\n",
       " 'turnstile',\n",
       " 'tusker',\n",
       " 'typewriter keyboard',\n",
       " 'umbrella',\n",
       " 'unicycle, monocycle',\n",
       " 'upright, upright piano',\n",
       " 'vacuum, vacuum cleaner',\n",
       " 'valley, vale',\n",
       " 'vase',\n",
       " 'vault',\n",
       " 'velvet',\n",
       " 'vending machine',\n",
       " 'vestment',\n",
       " 'viaduct',\n",
       " 'vine snake',\n",
       " 'violin, fiddle',\n",
       " 'vizsla, Hungarian pointer',\n",
       " 'volcano',\n",
       " 'volleyball',\n",
       " 'vulture',\n",
       " 'waffle iron',\n",
       " 'walking stick, walkingstick, stick insect',\n",
       " 'wall clock',\n",
       " 'wallaby, brush kangaroo',\n",
       " 'wallet, billfold, notecase, pocketbook',\n",
       " 'wardrobe, closet, press',\n",
       " 'warplane, military plane',\n",
       " 'warthog',\n",
       " 'washbasin, handbasin, washbowl, lavabo, wash-hand basin',\n",
       " 'washer, automatic washer, washing machine',\n",
       " 'water bottle',\n",
       " 'water buffalo, water ox, Asiatic buffalo, Bubalus bubalis',\n",
       " 'water jug',\n",
       " 'water ouzel, dipper',\n",
       " 'water snake',\n",
       " 'water tower',\n",
       " 'weasel',\n",
       " 'web site, website, internet site, site',\n",
       " 'weevil',\n",
       " 'whippet',\n",
       " 'whiptail, whiptail lizard',\n",
       " 'whiskey jug',\n",
       " 'whistle',\n",
       " 'white stork, Ciconia ciconia',\n",
       " 'white wolf, Arctic wolf, Canis lupus tundrarum',\n",
       " 'wig',\n",
       " 'wild boar, boar, Sus scrofa',\n",
       " 'window screen',\n",
       " 'window shade',\n",
       " 'wine bottle',\n",
       " 'wing',\n",
       " 'wire-haired fox terrier',\n",
       " 'wok',\n",
       " 'wolf spider, hunting spider',\n",
       " 'wombat',\n",
       " 'wood rabbit, cottontail, cottontail rabbit',\n",
       " 'wooden spoon',\n",
       " 'wool, woolen, woollen',\n",
       " 'worm fence, snake fence, snake-rail fence, Virginia fence',\n",
       " 'wreck',\n",
       " 'yawl',\n",
       " \"yellow lady's slipper, yellow lady-slipper, Cypripedium calceolus, Cypripedium parviflorum\",\n",
       " 'yurt',\n",
       " 'zebra',\n",
       " 'zucchini, courgette']"
      ]
     },
     "execution_count": 17,
     "metadata": {},
     "output_type": "execute_result"
    }
   ],
   "source": [
    "imagenet_json = Path(\"imagenet.json\")\n",
    "if not imagenet_json.exists():\n",
    "    imagenet_json, _ = urlretrieve(\n",
    "        'https://www.anishathalye.com/media/2017/07/25/imagenet.json',\n",
    "        imagenet_json,\n",
    "    )\n",
    "\n",
    "with open(imagenet_json) as f:\n",
    "    imagenet_labels = json.load(f)\n",
    "sorted(imagenet_labels)"
   ]
  },
  {
   "cell_type": "code",
   "execution_count": 18,
   "metadata": {},
   "outputs": [
    {
     "data": {
      "text/plain": [
       "1000"
      ]
     },
     "execution_count": 18,
     "metadata": {},
     "output_type": "execute_result"
    }
   ],
   "source": [
    "len(imagenet_labels)"
   ]
  },
  {
   "cell_type": "code",
   "execution_count": 19,
   "metadata": {
    "scrolled": true
   },
   "outputs": [
    {
     "data": {
      "text/plain": [
       "'tabby, tabby cat'"
      ]
     },
     "execution_count": 19,
     "metadata": {},
     "output_type": "execute_result"
    }
   ],
   "source": [
    "#img_path = Path(\"images/cat.jpg\")\n",
    "img_path = Path(\"cat.jpg\")\n",
    "if not img_path.exists():\n",
    "    img_path, _ = urlretrieve(\n",
    "        'https://www.anishathalye.com/media/2017/07/25/cat.jpg',\n",
    "        img_path\n",
    "    )\n",
    "img_class = imagenet_labels.index(\"tabby, tabby cat\")\n",
    "#img_class = imagenet_labels.index(\"desktop computer\")\n",
    "imagenet_labels[img_class]"
   ]
  },
  {
   "cell_type": "code",
   "execution_count": 20,
   "metadata": {},
   "outputs": [
    {
     "data": {
      "text/plain": [
       "((299, 299, 3), dtype('uint8'), 255, 0)"
      ]
     },
     "execution_count": 20,
     "metadata": {},
     "output_type": "execute_result"
    }
   ],
   "source": [
    "img = Image.open(img_path)\n",
    "\n",
    "# Resize the image such that its smaller side is of 299 pixels,\n",
    "# keeping its aspect ratio, and finally crop to the top left 299x299.\n",
    "wide = img.width > img.height\n",
    "new_w = 299 if not wide else int(img.width * 299 / img.height)\n",
    "new_h = 299 if wide else int(img.height * 299 / img.width)\n",
    "img = img.resize((new_w, new_h)).crop((0, 0, 299, 299))\n",
    "\n",
    "#img = (np.asarray(img) / 255.0).astype(np.float32)\n",
    "#img = np.asarray(img, dtype=np.float32)\n",
    "img = np.asarray(img)\n",
    "img.shape, img.dtype, img.max(), img.min()"
   ]
  },
  {
   "cell_type": "markdown",
   "metadata": {},
   "source": [
    "The output of the function `inception()` is a probability vector. To have an easier-to-understand prediction, the following function might help."
   ]
  },
  {
   "cell_type": "code",
   "execution_count": 21,
   "metadata": {},
   "outputs": [],
   "source": [
    "def top(array, k=10):\n",
    "    return [imagenet_labels[index] for index in tf.argsort(probas, direction=\"DESCENDING\")[:k]]"
   ]
  },
  {
   "cell_type": "code",
   "execution_count": 22,
   "metadata": {},
   "outputs": [
    {
     "data": {
      "text/plain": [
       "['tabby, tabby cat',\n",
       " 'tiger cat',\n",
       " 'Egyptian cat',\n",
       " 'lynx, catamount',\n",
       " 'swab, swob, mop',\n",
       " 'plastic bag',\n",
       " 'radiator',\n",
       " 'pot, flowerpot',\n",
       " 'carton',\n",
       " 'radio, wireless']"
      ]
     },
     "execution_count": 22,
     "metadata": {},
     "output_type": "execute_result"
    }
   ],
   "source": [
    "#image = tf.random.uniform(shape=(299,299,3), minval=-1, maxval=1)\n",
    "probas = inception(img)\n",
    "top(probas)"
   ]
  },
  {
   "cell_type": "markdown",
   "metadata": {},
   "source": [
    "It's good to see the top predicted classes in the inference, but it's even better to visualize the image, the probability and the predicted classes altogether. The following function `classify()` is written for that purpose."
   ]
  },
  {
   "cell_type": "code",
   "execution_count": 23,
   "metadata": {
    "scrolled": true
   },
   "outputs": [
    {
     "data": {
      "text/plain": [
       "True"
      ]
     },
     "execution_count": 23,
     "metadata": {},
     "output_type": "execute_result"
    }
   ],
   "source": [
    "np.any(img > 0)"
   ]
  },
  {
   "cell_type": "code",
   "execution_count": 24,
   "metadata": {},
   "outputs": [],
   "source": [
    "def inverse_preprocess(array, uint8=False):\n",
    "    \"\"\"\n",
    "    args\n",
    "        array, \n",
    "            range [-1, 1]\n",
    "    \"\"\"\n",
    "    if isinstance(array, tf.Tensor) or isinstance(array, tf.Variable):\n",
    "        array = array.numpy()\n",
    "    array01 = (array + 1) / 2\n",
    "    if uint8:\n",
    "        return (array01 * 255).astype(np.uint8)\n",
    "    else:\n",
    "        return array01"
   ]
  },
  {
   "cell_type": "code",
   "execution_count": 25,
   "metadata": {},
   "outputs": [],
   "source": [
    "def classify(img, correct_class=None, target_class=None, k=10, n_chars=15):\n",
    "    \"\"\"\n",
    "    args\n",
    "        img, tf.Variable or tf.Tensor or np.ndarray\n",
    "            The image to be displayed, along with Inception's inference\n",
    "        correct_class, int\n",
    "            class id for the truth class of img\n",
    "        target_class, int\n",
    "            class id for the targeted attack class\n",
    "\n",
    "    Rmk. Pay attention to img, please. We expect img to be either one of the following\n",
    "    \n",
    "    - tf.Variable\n",
    "    - tf.Tensor\n",
    "    - np.ndarray\n",
    "\n",
    "    Not only are we going to imshow(img), but we also will inception(img) to make inference.\n",
    "    This means that we need to adapt the data range of img:\n",
    "\n",
    "    - When imshow(img), data range has to be [0..255] or [0, 1]\n",
    "    - When inception(img), data range has to be [-1, 1]\n",
    "    \"\"\"\n",
    "    if isinstance(img, tf.Variable) or isinstance(img, tf.Tensor):\n",
    "        if img.dtype == tf.uint8:\n",
    "            img_inception = preprocess_input(img.numpy())\n",
    "            img_plt = img.numpy()\n",
    "        elif img.dtype == tf.float32:\n",
    "            if tf.reduce_min(img) < 0:\n",
    "                img_inception = img.numpy()\n",
    "                img_plt = inverse_preprocess(img.numpy())\n",
    "            else:\n",
    "                img_inception = preprocess_input(img.numpy())\n",
    "                img_plt = img.numpy()\n",
    "    elif isinstance(img, np.ndarray):\n",
    "        if img.dtype == np.uint8:\n",
    "            img_inception = preprocess_input(img)\n",
    "            img_plt = img\n",
    "        elif img.dtype == np.float32:\n",
    "            if np.any(img < 0):\n",
    "                img_inception = img\n",
    "                img_plt = inverse_preprocess(img)\n",
    "            else:\n",
    "                img_inception = preprocess_input(img)\n",
    "                img_plt = img\n",
    "    fig, (ax1, ax2) = plt.subplots(1, 2, figsize=(6, 4))\n",
    "    fig.sca(ax1)\n",
    "    ax1.imshow(img_plt)\n",
    "    probas = inception(img_inception)\n",
    "    probas = probas.numpy()\n",
    "    \n",
    "    # display the top k prediceted classes\n",
    "    topk = list((tf.argsort(probas, direction=\"DESCENDING\")[:k]).numpy())\n",
    "    # We convert topk to a list because we'd like to use its index() method later.\n",
    "    top_probas = probas[topk]\n",
    "    barlist = ax2.bar(range(k), top_probas)\n",
    "    if target_class in topk:\n",
    "        barlist[topk.index(target_class)].set_color('r')\n",
    "    if correct_class in topk:\n",
    "        barlist[topk.index(correct_class)].set_color('g')\n",
    "    plt.sca(ax2)\n",
    "    plt.ylim([0, 1.1])\n",
    "    plt.xticks(range(k),\n",
    "               [imagenet_labels[i][:n_chars] for i in topk],\n",
    "               #[imagenet_labels[i].strip(\",\")[0] for i in topk],\n",
    "               rotation='vertical')\n",
    "    fig.subplots_adjust(bottom=0.2)\n",
    "    #plt.show()"
   ]
  },
  {
   "cell_type": "raw",
   "metadata": {},
   "source": [
    "def classify(img, correct_class=None, target_class=None, k=10):\n",
    "    \"\"\"\n",
    "    args\n",
    "        img, tf.Tensor (dtype float32) or np.ndarray (dtype uint8)\n",
    "    \"\"\"\n",
    "    if isinstance(img, tf.Tensor) or isinstance(img, tf.Variable):\n",
    "        img_float32 = img.numpy()\n",
    "        img_uint8 = (inverse_preprocess(img.numpy()) * 255).astype(np.uint8)\n",
    "    elif isinstance(img, np.ndarray):\n",
    "        img_uint8 = img\n",
    "        img_float32 = preprocess_input(img)\n",
    "    fig, (ax1, ax2) = plt.subplots(1, 2, figsize=(10, 8))\n",
    "    fig.sca(ax1)  # sca() Select Current Axis\n",
    "    ax1.imshow(img_uint8)\n",
    "\n",
    "    probas = inception(img)\n",
    "    #p = p.numpy()\n",
    "    #print(f\"type(p) = {type(p)}, len(p) = {len(p)}\")\n",
    "    \n",
    "    # display the top k prediceted classes\n",
    "    #topk = list((tf.argsort(p)[-k:][::-1]).numpy())\n",
    "    top_indices = tf.argsort(probas, direction=\"DESCENDING\").numpy()[:k]\n",
    "    top_indices = list(top_indices)\n",
    "    print(f\"type(top_indices) = {type(top_indices)}\")\n",
    "    print(f\"top_indices = {top_indices}\")\n",
    "    #print(f\"probas = {probas}\")\n",
    "    print(f\"type(probas) = {type(probas)}\")\n",
    "    print(f\"probas.shape = {probas.shape}\")\n",
    "\n",
    "    #topprobs = p[topk]\n",
    "    top_probas = probas.numpy()[top_indices]\n",
    "    barlist = ax2.bar(range(k), top_probas)\n",
    "    if target_class in top_indices:\n",
    "        barlist[top_indices.index(target_class)].set_color('r')\n",
    "    if correct_class in top_indices:\n",
    "        barlist[top_indices.index(correct_class)].set_color('g')\n",
    "    plt.sca(ax2)\n",
    "    plt.ylim([0, 1.1])\n",
    "    plt.xticks(range(k),\n",
    "               #[imagenet_labels[i][:16] for i in top_indices],\n",
    "               [imagenet_labels[i].split(\",\")[0] for i in top_indices],\n",
    "               rotation='vertical',\n",
    "               #rotation=45,\n",
    "    )\n",
    "    # :15 means \"taking the first 15 characters\" for fear of long-string class.\n",
    "    fig.subplots_adjust(bottom=0.2)\n",
    "    plt.show()"
   ]
  },
  {
   "cell_type": "code",
   "execution_count": 26,
   "metadata": {},
   "outputs": [
    {
     "name": "stdout",
     "output_type": "stream",
     "text": [
      "ValueError: 2.71828 is not in list\n"
     ]
    }
   ],
   "source": [
    "try:\n",
    "    [1,2,3].index(2.71828)\n",
    "except ValueError as e:\n",
    "    print(f\"ValueError: {e}\")"
   ]
  },
  {
   "cell_type": "code",
   "execution_count": 27,
   "metadata": {
    "scrolled": true
   },
   "outputs": [
    {
     "data": {
      "image/png": "[encoded data removed]",
      "text/plain": [
       "<Figure size 432x288 with 2 Axes>"
      ]
     },
     "metadata": {},
     "output_type": "display_data"
    }
   ],
   "source": [
    "classify(img, correct_class=img_class)"
   ]
  },
  {
   "cell_type": "code",
   "execution_count": 28,
   "metadata": {},
   "outputs": [
    {
     "data": {
      "text/plain": [
       "False"
      ]
     },
     "execution_count": 28,
     "metadata": {},
     "output_type": "execute_result"
    }
   ],
   "source": [
    "isinstance(tf.Variable(10), tf.Tensor)"
   ]
  },
  {
   "cell_type": "code",
   "execution_count": 29,
   "metadata": {},
   "outputs": [
    {
     "data": {
      "text/plain": [
       "True"
      ]
     },
     "execution_count": 29,
     "metadata": {},
     "output_type": "execute_result"
    }
   ],
   "source": [
    "isinstance(tf.Variable(10), tf.Variable)"
   ]
  },
  {
   "cell_type": "markdown",
   "metadata": {},
   "source": [
    "# Adversarial examples\n",
    "\n",
    "Given an image $\\mathbf{x}$, our neural network outputs a probability distribution over labels, $P(y \\mid \\mathbf{x})$. When we craft an adversarial input, we want to find an $\\hat{\\mathbf{x}}$ where $\\log P(\\hat{y} \\mid \\hat{\\mathbf{x}})$ is maximized for a target label $\\hat{y}$: that way, our input will be misclassified as the target class. We can ensure that $\\hat{\\mathbf{x}}$ doesn't look too different from the original $\\mathbf{x}$ by constraining ourselves to some $\\ell_\\infty$ <del>box</del> ball with radius $\\epsilon$, requiring that $\\left\\lVert \\mathbf{x} - \\hat{\\mathbf{x}} \\right\\rVert_\\infty \\le \\epsilon$.\n",
    "\n",
    "In this framework, an adversarial example is the solution to a constrained optimization problem that we can solve using [backpropagation](https://colah.github.io/posts/2015-08-Backprop/) and projected gradient descent, basically the same techniques that are used to train networks themselves. The algorithm is simple:\n",
    "\n",
    "We begin by initializing our adversarial example as $\\hat{\\mathbf{x}} \\leftarrow \\mathbf{x}$. Then, we repeat the following until convergence:\n",
    "\n",
    "1. $\\hat{\\mathbf{x}} \\leftarrow \\hat{\\mathbf{x}} + \\alpha \\cdot \\nabla \\log P(\\hat{y} \\mid \\hat{\\mathbf{x}})$\n",
    "2. $\\hat{\\mathbf{x}} \\leftarrow \\mathrm{clip}(\\hat{\\mathbf{x}}, \\mathbf{x} - \\epsilon, \\mathbf{x} + \\epsilon)$"
   ]
  },
  {
   "cell_type": "code",
   "execution_count": 30,
   "metadata": {},
   "outputs": [
    {
     "data": {
      "text/plain": [
       "(tf.float32, TensorShape([299, 299, 3]))"
      ]
     },
     "execution_count": 30,
     "metadata": {},
     "output_type": "execute_result"
    }
   ],
   "source": [
    "#image = tf.Variable(img, dtype=tf.float32)\n",
    "image = tf.Variable(tf.zeros((299,299,3), dtype=tf.float32))\n",
    "x_hat = image\n",
    "\n",
    "x_hat.dtype, x_hat.shape"
   ]
  },
  {
   "cell_type": "code",
   "execution_count": 31,
   "metadata": {
    "scrolled": true
   },
   "outputs": [
    {
     "data": {
      "image/png": "[encoded data removed]",
      "text/plain": [
       "<Figure size 432x288 with 2 Axes>"
      ]
     },
     "metadata": {},
     "output_type": "display_data"
    }
   ],
   "source": [
    "classify(x_hat)"
   ]
  },
  {
   "cell_type": "code",
   "execution_count": 32,
   "metadata": {},
   "outputs": [
    {
     "data": {
      "text/plain": [
       "0.00784313725490196"
      ]
     },
     "execution_count": 32,
     "metadata": {},
     "output_type": "execute_result"
    }
   ],
   "source": [
    "px_epsilon = 2.0/255.0 # a really small perturbation\n",
    "px_epsilon"
   ]
  },
  {
   "cell_type": "raw",
   "metadata": {},
   "source": [
    "help(np.clip)"
   ]
  },
  {
   "cell_type": "code",
   "execution_count": 33,
   "metadata": {
    "scrolled": true
   },
   "outputs": [
    {
     "name": "stdout",
     "output_type": "stream",
     "text": [
      "img[:2, :2, 0] =\n",
      "[[14 14]\n",
      " [15 16]]\n",
      "\n",
      "img_processed[:2, :2, 0] =\n",
      "[[-0.8901961  -0.8901961 ]\n",
      " [-0.88235295 -0.8745098 ]]\n",
      "\n",
      "below[:2, :2, 0] =\n",
      "[[-0.8980392  -0.8980392 ]\n",
      " [-0.8901961  -0.88235295]]\n",
      "\n",
      "above[:2, :2, 0] =\n",
      "[[-0.88235295 -0.88235295]\n",
      " [-0.8745098  -0.8666667 ]]\n"
     ]
    }
   ],
   "source": [
    "img_processed = keras.applications.inception_v3.preprocess_input(img)\n",
    "below = img_processed - px_epsilon\n",
    "below = np.clip(below, -1, 1)\n",
    "above = img_processed + px_epsilon\n",
    "above = np.clip(above, -1, 1)\n",
    "print(f\"img[:2, :2, 0] =\\n{img[:2, :2, 0]}\\n\")\n",
    "print(f\"img_processed[:2, :2, 0] =\\n{img_processed[:2, :2, 0]}\\n\")\n",
    "print(f\"below[:2, :2, 0] =\\n{below[:2, :2, 0]}\\n\")\n",
    "print(f\"above[:2, :2, 0] =\\n{above[:2, :2, 0]}\")"
   ]
  },
  {
   "cell_type": "code",
   "execution_count": null,
   "metadata": {},
   "outputs": [],
   "source": []
  },
  {
   "cell_type": "raw",
   "metadata": {},
   "source": [
    "lr = 300\n",
    "n_steps = 50\n",
    "#target_class = imagenet_labels.index(\"banana\")\n",
    "target_class = imagenet_labels.index(\"desktop computer\")\n",
    "\n",
    "x_hat = tf.Variable(tf.zeros((299,299,3), dtype=tf.float32))\n",
    "best_proba = 0\n",
    "for i in tqdm(range(n_steps)):\n",
    "    with tf.GradientTape() as tape:\n",
    "        #tape.watch(x_hat)\n",
    "        proba = inception(x_hat)[target_class]\n",
    "    \n",
    "    #print(f\"best_proba = {best_proba:.6f}, proba = {proba.numpy():.6f}\")\n",
    "    if proba.numpy() > best_proba:\n",
    "        x_best = x_hat.numpy()\n",
    "        best_proba = proba\n",
    "    grad = tape.gradient(proba, [x_hat])[0]\n",
    "    projected = tf.clip_by_value(x_hat + lr * grad, below, above)\n",
    "    x_hat.assign(projected)\n",
    "    if (i+1) % 10 == 0:\n",
    "        print(f'step{i+1: 4d}, proba={proba:.9f}')"
   ]
  },
  {
   "cell_type": "code",
   "execution_count": 34,
   "metadata": {},
   "outputs": [
    {
     "data": {
      "application/vnd.jupyter.widget-view+json": {
       "model_id": "df64aa83ce0b4b1da7374419037e94c4",
       "version_major": 2,
       "version_minor": 0
      },
      "text/plain": [
       "  0%|          | 0/50 [00:00<?, ?it/s]"
      ]
     },
     "metadata": {},
     "output_type": "display_data"
    },
    {
     "name": "stdout",
     "output_type": "stream",
     "text": [
      "step  10\n",
      "best_proba = 0.000000\n",
      "proba      = 0.000027\n",
      "step  20\n",
      "best_proba = 0.000027\n",
      "proba      = 0.000029\n"
     ]
    },
    {
     "ename": "KeyboardInterrupt",
     "evalue": "",
     "output_type": "error",
     "traceback": [
      "\u001b[0;31m---------------------------------------------------------------------------\u001b[0m",
      "\u001b[0;31mKeyboardInterrupt\u001b[0m                         Traceback (most recent call last)",
      "\u001b[0;32m/tmp/ipykernel_17511/503033121.py\u001b[0m in \u001b[0;36m<module>\u001b[0;34m\u001b[0m\n\u001b[1;32m     11\u001b[0m         \u001b[0mproba\u001b[0m \u001b[0;34m=\u001b[0m \u001b[0minception\u001b[0m\u001b[0;34m(\u001b[0m\u001b[0mx_hat\u001b[0m\u001b[0;34m)\u001b[0m\u001b[0;34m[\u001b[0m\u001b[0mtarget_class\u001b[0m\u001b[0;34m]\u001b[0m\u001b[0;34m\u001b[0m\u001b[0;34m\u001b[0m\u001b[0m\n\u001b[1;32m     12\u001b[0m \u001b[0;34m\u001b[0m\u001b[0m\n\u001b[0;32m---> 13\u001b[0;31m     \u001b[0mgrad\u001b[0m \u001b[0;34m=\u001b[0m \u001b[0mtape\u001b[0m\u001b[0;34m.\u001b[0m\u001b[0mgradient\u001b[0m\u001b[0;34m(\u001b[0m\u001b[0mproba\u001b[0m\u001b[0;34m,\u001b[0m \u001b[0;34m[\u001b[0m\u001b[0mx_hat\u001b[0m\u001b[0;34m]\u001b[0m\u001b[0;34m)\u001b[0m\u001b[0;34m[\u001b[0m\u001b[0;36m0\u001b[0m\u001b[0;34m]\u001b[0m\u001b[0;34m\u001b[0m\u001b[0;34m\u001b[0m\u001b[0m\n\u001b[0m\u001b[1;32m     14\u001b[0m     \u001b[0mprojected\u001b[0m \u001b[0;34m=\u001b[0m \u001b[0mtf\u001b[0m\u001b[0;34m.\u001b[0m\u001b[0mclip_by_value\u001b[0m\u001b[0;34m(\u001b[0m\u001b[0mx_hat\u001b[0m \u001b[0;34m+\u001b[0m \u001b[0mlr\u001b[0m \u001b[0;34m*\u001b[0m \u001b[0mgrad\u001b[0m\u001b[0;34m,\u001b[0m \u001b[0mbelow\u001b[0m\u001b[0;34m,\u001b[0m \u001b[0mabove\u001b[0m\u001b[0;34m)\u001b[0m\u001b[0;34m\u001b[0m\u001b[0;34m\u001b[0m\u001b[0m\n\u001b[1;32m     15\u001b[0m     \u001b[0mx_hat\u001b[0m\u001b[0;34m.\u001b[0m\u001b[0massign\u001b[0m\u001b[0;34m(\u001b[0m\u001b[0mprojected\u001b[0m\u001b[0;34m)\u001b[0m\u001b[0;34m\u001b[0m\u001b[0;34m\u001b[0m\u001b[0m\n",
      "\u001b[0;32m~/.virtualenvs/tf2.5/lib/python3.7/site-packages/tensorflow/python/eager/backprop.py\u001b[0m in \u001b[0;36mgradient\u001b[0;34m(self, target, sources, output_gradients, unconnected_gradients)\u001b[0m\n\u001b[1;32m   1078\u001b[0m         \u001b[0moutput_gradients\u001b[0m\u001b[0;34m=\u001b[0m\u001b[0moutput_gradients\u001b[0m\u001b[0;34m,\u001b[0m\u001b[0;34m\u001b[0m\u001b[0;34m\u001b[0m\u001b[0m\n\u001b[1;32m   1079\u001b[0m         \u001b[0msources_raw\u001b[0m\u001b[0;34m=\u001b[0m\u001b[0mflat_sources_raw\u001b[0m\u001b[0;34m,\u001b[0m\u001b[0;34m\u001b[0m\u001b[0;34m\u001b[0m\u001b[0m\n\u001b[0;32m-> 1080\u001b[0;31m         unconnected_gradients=unconnected_gradients)\n\u001b[0m\u001b[1;32m   1081\u001b[0m \u001b[0;34m\u001b[0m\u001b[0m\n\u001b[1;32m   1082\u001b[0m     \u001b[0;32mif\u001b[0m \u001b[0;32mnot\u001b[0m \u001b[0mself\u001b[0m\u001b[0;34m.\u001b[0m\u001b[0m_persistent\u001b[0m\u001b[0;34m:\u001b[0m\u001b[0;34m\u001b[0m\u001b[0;34m\u001b[0m\u001b[0m\n",
      "\u001b[0;32m~/.virtualenvs/tf2.5/lib/python3.7/site-packages/tensorflow/python/eager/imperative_grad.py\u001b[0m in \u001b[0;36mimperative_grad\u001b[0;34m(tape, target, sources, output_gradients, sources_raw, unconnected_gradients)\u001b[0m\n\u001b[1;32m     75\u001b[0m       \u001b[0moutput_gradients\u001b[0m\u001b[0;34m,\u001b[0m\u001b[0;34m\u001b[0m\u001b[0;34m\u001b[0m\u001b[0m\n\u001b[1;32m     76\u001b[0m       \u001b[0msources_raw\u001b[0m\u001b[0;34m,\u001b[0m\u001b[0;34m\u001b[0m\u001b[0;34m\u001b[0m\u001b[0m\n\u001b[0;32m---> 77\u001b[0;31m       compat.as_str(unconnected_gradients.value))\n\u001b[0m",
      "\u001b[0;32m~/.virtualenvs/tf2.5/lib/python3.7/site-packages/tensorflow/python/eager/backprop.py\u001b[0m in \u001b[0;36m_gradient_function\u001b[0;34m(op_name, attr_tuple, num_inputs, inputs, outputs, out_grads, skip_input_indices, forward_pass_name_scope)\u001b[0m\n\u001b[1;32m    157\u001b[0m       \u001b[0mgradient_name_scope\u001b[0m \u001b[0;34m+=\u001b[0m \u001b[0mforward_pass_name_scope\u001b[0m \u001b[0;34m+\u001b[0m \u001b[0;34m\"/\"\u001b[0m\u001b[0;34m\u001b[0m\u001b[0;34m\u001b[0m\u001b[0m\n\u001b[1;32m    158\u001b[0m     \u001b[0;32mwith\u001b[0m \u001b[0mops\u001b[0m\u001b[0;34m.\u001b[0m\u001b[0mname_scope\u001b[0m\u001b[0;34m(\u001b[0m\u001b[0mgradient_name_scope\u001b[0m\u001b[0;34m)\u001b[0m\u001b[0;34m:\u001b[0m\u001b[0;34m\u001b[0m\u001b[0;34m\u001b[0m\u001b[0m\n\u001b[0;32m--> 159\u001b[0;31m       \u001b[0;32mreturn\u001b[0m \u001b[0mgrad_fn\u001b[0m\u001b[0;34m(\u001b[0m\u001b[0mmock_op\u001b[0m\u001b[0;34m,\u001b[0m \u001b[0;34m*\u001b[0m\u001b[0mout_grads\u001b[0m\u001b[0;34m)\u001b[0m\u001b[0;34m\u001b[0m\u001b[0;34m\u001b[0m\u001b[0m\n\u001b[0m\u001b[1;32m    160\u001b[0m   \u001b[0;32melse\u001b[0m\u001b[0;34m:\u001b[0m\u001b[0;34m\u001b[0m\u001b[0;34m\u001b[0m\u001b[0m\n\u001b[1;32m    161\u001b[0m     \u001b[0;32mreturn\u001b[0m \u001b[0mgrad_fn\u001b[0m\u001b[0;34m(\u001b[0m\u001b[0mmock_op\u001b[0m\u001b[0;34m,\u001b[0m \u001b[0;34m*\u001b[0m\u001b[0mout_grads\u001b[0m\u001b[0;34m)\u001b[0m\u001b[0;34m\u001b[0m\u001b[0;34m\u001b[0m\u001b[0m\n",
      "\u001b[0;32m~/.virtualenvs/tf2.5/lib/python3.7/site-packages/tensorflow/python/ops/nn_grad.py\u001b[0m in \u001b[0;36m_Conv2DGrad\u001b[0;34m(op, grad)\u001b[0m\n\u001b[1;32m    598\u001b[0m           \u001b[0mexplicit_paddings\u001b[0m\u001b[0;34m=\u001b[0m\u001b[0mexplicit_paddings\u001b[0m\u001b[0;34m,\u001b[0m\u001b[0;34m\u001b[0m\u001b[0;34m\u001b[0m\u001b[0m\n\u001b[1;32m    599\u001b[0m           \u001b[0muse_cudnn_on_gpu\u001b[0m\u001b[0;34m=\u001b[0m\u001b[0muse_cudnn_on_gpu\u001b[0m\u001b[0;34m,\u001b[0m\u001b[0;34m\u001b[0m\u001b[0;34m\u001b[0m\u001b[0m\n\u001b[0;32m--> 600\u001b[0;31m           data_format=data_format)\n\u001b[0m\u001b[1;32m    601\u001b[0m   ]\n\u001b[1;32m    602\u001b[0m \u001b[0;34m\u001b[0m\u001b[0m\n",
      "\u001b[0;32m~/.virtualenvs/tf2.5/lib/python3.7/site-packages/tensorflow/python/ops/gen_nn_ops.py\u001b[0m in \u001b[0;36mconv2d_backprop_filter\u001b[0;34m(input, filter_sizes, out_backprop, strides, padding, use_cudnn_on_gpu, explicit_paddings, data_format, dilations, name)\u001b[0m\n\u001b[1;32m   1082\u001b[0m         \u001b[0;34m\"strides\"\u001b[0m\u001b[0;34m,\u001b[0m \u001b[0mstrides\u001b[0m\u001b[0;34m,\u001b[0m \u001b[0;34m\"use_cudnn_on_gpu\"\u001b[0m\u001b[0;34m,\u001b[0m \u001b[0muse_cudnn_on_gpu\u001b[0m\u001b[0;34m,\u001b[0m \u001b[0;34m\"padding\"\u001b[0m\u001b[0;34m,\u001b[0m\u001b[0;34m\u001b[0m\u001b[0;34m\u001b[0m\u001b[0m\n\u001b[1;32m   1083\u001b[0m         \u001b[0mpadding\u001b[0m\u001b[0;34m,\u001b[0m \u001b[0;34m\"explicit_paddings\"\u001b[0m\u001b[0;34m,\u001b[0m \u001b[0mexplicit_paddings\u001b[0m\u001b[0;34m,\u001b[0m \u001b[0;34m\"data_format\"\u001b[0m\u001b[0;34m,\u001b[0m\u001b[0;34m\u001b[0m\u001b[0;34m\u001b[0m\u001b[0m\n\u001b[0;32m-> 1084\u001b[0;31m         data_format, \"dilations\", dilations)\n\u001b[0m\u001b[1;32m   1085\u001b[0m       \u001b[0;32mreturn\u001b[0m \u001b[0m_result\u001b[0m\u001b[0;34m\u001b[0m\u001b[0;34m\u001b[0m\u001b[0m\n\u001b[1;32m   1086\u001b[0m     \u001b[0;32mexcept\u001b[0m \u001b[0m_core\u001b[0m\u001b[0;34m.\u001b[0m\u001b[0m_NotOkStatusException\u001b[0m \u001b[0;32mas\u001b[0m \u001b[0me\u001b[0m\u001b[0;34m:\u001b[0m\u001b[0;34m\u001b[0m\u001b[0;34m\u001b[0m\u001b[0m\n",
      "\u001b[0;31mKeyboardInterrupt\u001b[0m: "
     ]
    }
   ],
   "source": [
    "lr = 30\n",
    "n_steps = 50\n",
    "#target_class = imagenet_labels.index(\"banana\")\n",
    "target_class = imagenet_labels.index(\"desktop computer\")\n",
    "\n",
    "#x_hat = tf.Variable(tf.zeros((299,299,3), dtype=tf.float32))\n",
    "best_proba = 0\n",
    "for i in tqdm(range(n_steps)):\n",
    "    with tf.GradientTape() as tape:\n",
    "        #tape.watch(x_hat)\n",
    "        proba = inception(x_hat)[target_class]\n",
    "    \n",
    "    grad = tape.gradient(proba, [x_hat])[0]\n",
    "    projected = tf.clip_by_value(x_hat + lr * grad, below, above)\n",
    "    x_hat.assign(projected)\n",
    "    if (i+1) % 10 == 0:\n",
    "        #print(f'step{i+1: 4d}, proba={proba:.9f}')\n",
    "        print(f'step{i+1: 4d}')\n",
    "        print(f\"best_proba = {best_proba:.6f}\")\n",
    "        print(f\"proba      = {proba.numpy():6f}\")\n",
    "        if proba.numpy() > best_proba:\n",
    "            x_best = x_hat.numpy()\n",
    "            best_proba = proba"
   ]
  },
  {
   "cell_type": "code",
   "execution_count": null,
   "metadata": {},
   "outputs": [],
   "source": [
    "np.array_equal(x_hat.numpy(), x_best)"
   ]
  },
  {
   "cell_type": "code",
   "execution_count": null,
   "metadata": {},
   "outputs": [],
   "source": [
    "x_best.min(), x_best.max()"
   ]
  },
  {
   "cell_type": "code",
   "execution_count": null,
   "metadata": {},
   "outputs": [],
   "source": [
    "plt.imshow(inverse_preprocess(x_best));"
   ]
  },
  {
   "cell_type": "code",
   "execution_count": null,
   "metadata": {},
   "outputs": [],
   "source": [
    "plt.imshow(inverse_preprocess(x_hat.numpy()) - inverse_preprocess(x_best));"
   ]
  },
  {
   "cell_type": "code",
   "execution_count": null,
   "metadata": {
    "scrolled": true
   },
   "outputs": [],
   "source": [
    "classify(\n",
    "    x_hat,\n",
    "    correct_class=img_class,\n",
    "    target_class=target_class,\n",
    ")"
   ]
  },
  {
   "cell_type": "code",
   "execution_count": null,
   "metadata": {},
   "outputs": [],
   "source": [
    "classify(\n",
    "    x_best,\n",
    "    correct_class=img_class,\n",
    "    target_class=target_class,\n",
    ")"
   ]
  },
  {
   "cell_type": "code",
   "execution_count": null,
   "metadata": {},
   "outputs": [],
   "source": [
    "top(inception(x_best))"
   ]
  },
  {
   "cell_type": "code",
   "execution_count": null,
   "metadata": {},
   "outputs": [],
   "source": []
  },
  {
   "cell_type": "code",
   "execution_count": 35,
   "metadata": {
    "scrolled": false
   },
   "outputs": [
    {
     "data": {
      "application/vnd.jupyter.widget-view+json": {
       "model_id": "",
       "version_major": 2,
       "version_minor": 0
      },
      "text/plain": [
       "  0%|          | 0/100 [00:00<?, ?it/s]"
      ]
     },
     "metadata": {},
     "output_type": "display_data"
    },
    {
     "name": "stdout",
     "output_type": "stream",
     "text": [
      "step  10, loss=5.678248, proba=0.003420\n",
      "step  20, loss=4.254927, proba=0.014194\n",
      "step  30, loss=3.444849, proba=0.031910\n",
      "step  40, loss=3.070733, proba=0.046387\n",
      "step  50, loss=2.516899, proba=0.080709\n",
      "step  60, loss=2.209092, proba=0.109800\n",
      "step  70, loss=2.231972, proba=0.107317\n",
      "step  80, loss=1.966051, proba=0.140009\n",
      "step  90, loss=1.844816, proba=0.158054\n",
      "step 100, loss=1.955728, proba=0.141461\n"
     ]
    }
   ],
   "source": [
    "target_class = imagenet_labels.index(\"desktop computer\")\n",
    "lr = 3e-1\n",
    "n_steps = 100\n",
    "\n",
    "x_hat = tf.Variable(tf.zeros((299,299,3), dtype=tf.float32))\n",
    "\n",
    "for i in tqdm(range(n_steps)):\n",
    "    with tf.GradientTape() as tape:\n",
    "        probas = inception(x_hat)\n",
    "        loss = keras.losses.sparse_categorical_crossentropy(target_class, probas)\n",
    "        \n",
    "    grad = tape.gradient(loss, [x_hat])[0]\n",
    "    projected = tf.clip_by_value(x_hat - lr * grad, below, above)\n",
    "    x_hat.assign(projected)\n",
    "    \n",
    "    if (i+1) % 10 == 0:\n",
    "        print(f'step{i+1: 4d}, loss={loss:.6f}, proba={probas[target_class].numpy():.6f}')"
   ]
  },
  {
   "cell_type": "code",
   "execution_count": 36,
   "metadata": {},
   "outputs": [
    {
     "data": {
      "image/png": "[encoded data removed]",
      "text/plain": [
       "<Figure size 432x288 with 2 Axes>"
      ]
     },
     "metadata": {},
     "output_type": "display_data"
    }
   ],
   "source": [
    "classify(\n",
    "    x_hat,\n",
    "    correct_class=img_class,\n",
    "    target_class=target_class,\n",
    ")"
   ]
  },
  {
   "cell_type": "code",
   "execution_count": 39,
   "metadata": {},
   "outputs": [
    {
     "data": {
      "text/plain": [
       "<tf.Tensor: shape=(), dtype=float32, numpy=0.14146142>"
      ]
     },
     "execution_count": 39,
     "metadata": {},
     "output_type": "execute_result"
    }
   ],
   "source": [
    "probas[target_class]"
   ]
  },
  {
   "cell_type": "code",
   "execution_count": 41,
   "metadata": {},
   "outputs": [
    {
     "data": {
      "text/plain": [
       "['desktop computer',\n",
       " 'tabby, tabby cat',\n",
       " 'monitor',\n",
       " 'tiger cat',\n",
       " 'laptop, laptop computer',\n",
       " 'Egyptian cat',\n",
       " 'mouse, computer mouse',\n",
       " 'radio, wireless',\n",
       " 'screen, CRT screen',\n",
       " 'notebook, notebook computer']"
      ]
     },
     "execution_count": 41,
     "metadata": {},
     "output_type": "execute_result"
    }
   ],
   "source": [
    "top(inception(x_hat))"
   ]
  },
  {
   "cell_type": "code",
   "execution_count": null,
   "metadata": {},
   "outputs": [],
   "source": []
  },
  {
   "cell_type": "code",
   "execution_count": null,
   "metadata": {
    "scrolled": false
   },
   "outputs": [
    {
     "data": {
      "application/vnd.jupyter.widget-view+json": {
       "model_id": "a39bca92d1f74b88b2b5165ef9488ad8",
       "version_major": 2,
       "version_minor": 0
      },
      "text/plain": [
       "  0%|          | 0/100 [00:00<?, ?it/s]"
      ]
     },
     "metadata": {},
     "output_type": "display_data"
    },
    {
     "name": "stdout",
     "output_type": "stream",
     "text": [
      "step  10, loss=5.678248, proba=0.003420\n",
      "step  20, loss=4.254927, proba=0.014194\n"
     ]
    }
   ],
   "source": [
    "target_class = imagenet_labels.index(\"desktop computer\")\n",
    "lr = 3e-1\n",
    "n_steps = 100\n",
    "\n",
    "x_hat = tf.Variable(tf.zeros((299,299,3), dtype=tf.float32))\n",
    "\n",
    "for i in tqdm(range(n_steps)):\n",
    "    with tf.GradientTape() as tape:\n",
    "        probas = inception(x_hat)\n",
    "        loss = keras.losses.sparse_categorical_crossentropy(target_class, probas)\n",
    "        \n",
    "    grad = tape.gradient(loss, [x_hat])[0]\n",
    "    projected = tf.clip_by_value(x_hat - lr * grad, below, above)\n",
    "    x_hat.assign(projected)\n",
    "    \n",
    "    if (i+1) % 10 == 0:\n",
    "        print(f'step{i+1: 4d}, loss={loss:.6f}, proba={probas[target_class].numpy():.6f}')"
   ]
  },
  {
   "cell_type": "code",
   "execution_count": null,
   "metadata": {},
   "outputs": [],
   "source": []
  }
 ],
 "metadata": {
  "kernelspec": {
   "display_name": "Python 3 (ipykernel)",
   "language": "python",
   "name": "python3"
  },
  "language_info": {
   "codemirror_mode": {
    "name": "ipython",
    "version": 3
   },
   "file_extension": ".py",
   "mimetype": "text/x-python",
   "name": "python",
   "nbconvert_exporter": "python",
   "pygments_lexer": "ipython3",
   "version": "3.7.8"
  }
 },
 "nbformat": 4,
 "nbformat_minor": 4
}
