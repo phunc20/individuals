{
 "cells": [
  {
   "cell_type": "markdown",
   "metadata": {},
   "source": [
    "- [https://machinelearningmastery.com/time-series-prediction-lstm-recurrent-neural-networks-python-keras/](https://machinelearningmastery.com/time-series-prediction-lstm-recurrent-neural-networks-python-keras/)"
   ]
  },
  {
   "cell_type": "code",
   "execution_count": 1,
   "metadata": {},
   "outputs": [
    {
     "name": "stdout",
     "output_type": "stream",
     "text": [
      "\"Month\",\"Passengers\"\n",
      "\"1949-01\",112\n",
      "\"1949-02\",118\n",
      "\"1949-03\",132\n",
      "\"1949-04\",129\n",
      "\"1949-05\",121\n",
      "\"1949-06\",135\n",
      "\"1949-07\",148\n",
      "\"1949-08\",148\n",
      "\"1949-09\",136\n"
     ]
    }
   ],
   "source": [
    "!head -10 airline-passengers.csv"
   ]
  },
  {
   "cell_type": "code",
   "execution_count": 2,
   "metadata": {},
   "outputs": [],
   "source": [
    "import pandas as pd\n",
    "import numpy as np\n",
    "import matplotlib.pyplot as plt\n",
    "from sklearn.preprocessing import MinMaxScaler"
   ]
  },
  {
   "cell_type": "code",
   "execution_count": 3,
   "metadata": {},
   "outputs": [],
   "source": [
    "# load the dataset\n",
    "df = pd.read_csv('airline-passengers.csv', usecols=[1], engine='python')"
   ]
  },
  {
   "cell_type": "code",
   "execution_count": 4,
   "metadata": {},
   "outputs": [
    {
     "data": {
      "image/png": "[encoded data removed]",
      "text/plain": [
       "<Figure size 432x288 with 1 Axes>"
      ]
     },
     "metadata": {
      "needs_background": "light"
     },
     "output_type": "display_data"
    }
   ],
   "source": [
    "df.plot();"
   ]
  },
  {
   "cell_type": "code",
   "execution_count": 5,
   "metadata": {},
   "outputs": [],
   "source": [
    "dataset = df.values"
   ]
  },
  {
   "cell_type": "code",
   "execution_count": 6,
   "metadata": {},
   "outputs": [
    {
     "data": {
      "text/plain": [
       "dtype('int64')"
      ]
     },
     "execution_count": 6,
     "metadata": {},
     "output_type": "execute_result"
    }
   ],
   "source": [
    "dataset.dtype"
   ]
  },
  {
   "cell_type": "code",
   "execution_count": 7,
   "metadata": {},
   "outputs": [],
   "source": [
    "dataset = dataset.astype('float32')"
   ]
  },
  {
   "cell_type": "code",
   "execution_count": 8,
   "metadata": {},
   "outputs": [],
   "source": [
    "# normalize the dataset\n",
    "scaler = MinMaxScaler(feature_range=(0, 1))\n",
    "dataset_scaled = scaler.fit_transform(dataset)"
   ]
  },
  {
   "cell_type": "code",
   "execution_count": 9,
   "metadata": {},
   "outputs": [
    {
     "name": "stdout",
     "output_type": "stream",
     "text": [
      "96 48\n"
     ]
    }
   ],
   "source": [
    "# split into train and test sets\n",
    "train_size = int(len(dataset_scaled) * 0.67)\n",
    "test_size = len(dataset_scaled) - train_size\n",
    "train, test = dataset_scaled[0:train_size,:], dataset_scaled[train_size:len(dataset),:]\n",
    "print(len(train), len(test))"
   ]
  },
  {
   "cell_type": "code",
   "execution_count": 10,
   "metadata": {},
   "outputs": [],
   "source": [
    "# convert an array of values into a dataset matrix\n",
    "def create_dataset(dataset, look_back=1):\n",
    "    dataX, dataY = [], []\n",
    "    for i in range(len(dataset)-look_back-1):\n",
    "        a = dataset[i:(i+look_back), 0]\n",
    "        dataX.append(a)\n",
    "        dataY.append(dataset[i + look_back, 0])\n",
    "    return np.array(dataX), np.array(dataY)"
   ]
  },
  {
   "cell_type": "code",
   "execution_count": 11,
   "metadata": {},
   "outputs": [],
   "source": [
    "# reshape into X=t and Y=t+1\n",
    "look_back = 3\n",
    "trainX, trainY = create_dataset(train, look_back)\n",
    "testX, testY = create_dataset(test, look_back)"
   ]
  },
  {
   "cell_type": "code",
   "execution_count": 12,
   "metadata": {},
   "outputs": [
    {
     "data": {
      "text/plain": [
       "(array([[0.01544401, 0.02702703, 0.05405405],\n",
       "        [0.02702703, 0.05405405, 0.04826255],\n",
       "        [0.05405405, 0.04826255, 0.03281853],\n",
       "        [0.04826255, 0.03281853, 0.05984557],\n",
       "        [0.03281853, 0.05984557, 0.08494207]], dtype=float32),\n",
       " array([0.04826255, 0.03281853, 0.05984557, 0.08494207, 0.08494207],\n",
       "       dtype=float32))"
      ]
     },
     "execution_count": 12,
     "metadata": {},
     "output_type": "execute_result"
    }
   ],
   "source": [
    "trainX[:5], trainY[:5]"
   ]
  },
  {
   "cell_type": "code",
   "execution_count": 13,
   "metadata": {},
   "outputs": [],
   "source": [
    "# reshape into X=t and Y=t+1\n",
    "look_back = 1\n",
    "trainX, trainY = create_dataset(train, look_back)\n",
    "testX, testY = create_dataset(test, look_back)"
   ]
  },
  {
   "cell_type": "code",
   "execution_count": 14,
   "metadata": {},
   "outputs": [
    {
     "data": {
      "text/plain": [
       "(array([[0.01544401],\n",
       "        [0.02702703],\n",
       "        [0.05405405],\n",
       "        [0.04826255],\n",
       "        [0.03281853]], dtype=float32),\n",
       " array([0.02702703, 0.05405405, 0.04826255, 0.03281853, 0.05984557],\n",
       "       dtype=float32))"
      ]
     },
     "execution_count": 14,
     "metadata": {},
     "output_type": "execute_result"
    }
   ],
   "source": [
    "trainX[:5], trainY[:5]"
   ]
  },
  {
   "cell_type": "markdown",
   "metadata": {},
   "source": [
    "LSTM expected input shape:<br>\n",
    "**`(n_instances, n_timesteps, n_features)`**"
   ]
  },
  {
   "cell_type": "code",
   "execution_count": 15,
   "metadata": {},
   "outputs": [
    {
     "name": "stdout",
     "output_type": "stream",
     "text": [
      "expand_dims\n",
      "ndim\n"
     ]
    }
   ],
   "source": [
    "for s in dir(np):\n",
    "    if \"dim\" in s:\n",
    "        print(s)"
   ]
  },
  {
   "cell_type": "markdown",
   "metadata": {},
   "source": [
    "Instead of using `reshape()` like in the [tutorial](https://machinelearningmastery.com/time-series-prediction-lstm-recurrent-neural-networks-python-keras/), we could also opt `expand_dims()`.\n",
    "```python\n",
    "trainX = numpy.reshape(trainX, (trainX.shape[0], 1, trainX.shape[1]))\n",
    "testX = numpy.reshape(testX, (testX.shape[0], 1, testX.shape[1]))\n",
    "```"
   ]
  },
  {
   "cell_type": "code",
   "execution_count": 16,
   "metadata": {},
   "outputs": [
    {
     "data": {
      "text/plain": [
       "(94, 1)"
      ]
     },
     "execution_count": 16,
     "metadata": {},
     "output_type": "execute_result"
    }
   ],
   "source": [
    "trainX.shape"
   ]
  },
  {
   "cell_type": "code",
   "execution_count": 17,
   "metadata": {},
   "outputs": [
    {
     "data": {
      "text/plain": [
       "(94, 1, 1)"
      ]
     },
     "execution_count": 17,
     "metadata": {},
     "output_type": "execute_result"
    }
   ],
   "source": [
    "X_train = np.expand_dims(trainX, axis=1)\n",
    "X_train.shape"
   ]
  },
  {
   "cell_type": "code",
   "execution_count": 18,
   "metadata": {},
   "outputs": [],
   "source": [
    "y_train = trainY"
   ]
  },
  {
   "cell_type": "code",
   "execution_count": 24,
   "metadata": {},
   "outputs": [],
   "source": [
    "X_test = np.expand_dims(testX, axis=1)\n",
    "y_test = testY"
   ]
  },
  {
   "cell_type": "code",
   "execution_count": 19,
   "metadata": {},
   "outputs": [],
   "source": [
    "from tensorflow.keras.models import Sequential\n",
    "from tensorflow.keras.layers import Dense\n",
    "from tensorflow.keras.layers import LSTM"
   ]
  },
  {
   "cell_type": "code",
   "execution_count": 20,
   "metadata": {},
   "outputs": [
    {
     "name": "stdout",
     "output_type": "stream",
     "text": [
      "Model: \"sequential\"\n",
      "_________________________________________________________________\n",
      "Layer (type)                 Output Shape              Param #   \n",
      "=================================================================\n",
      "lstm (LSTM)                  (None, 4)                 96        \n",
      "_________________________________________________________________\n",
      "dense (Dense)                (None, 1)                 5         \n",
      "=================================================================\n",
      "Total params: 101\n",
      "Trainable params: 101\n",
      "Non-trainable params: 0\n",
      "_________________________________________________________________\n"
     ]
    }
   ],
   "source": [
    "# our first LSTM model\n",
    "model = Sequential()\n",
    "model.add(LSTM(4, input_shape=(1, look_back)))\n",
    "model.add(Dense(1))\n",
    "model.summary()"
   ]
  },
  {
   "cell_type": "code",
   "execution_count": 23,
   "metadata": {
    "collapsed": true,
    "jupyter": {
     "outputs_hidden": true
    }
   },
   "outputs": [
    {
     "name": "stdout",
     "output_type": "stream",
     "text": [
      "Epoch 1/100\n",
      "94/94 - 18s - loss: 0.0413\n",
      "Epoch 2/100\n",
      "94/94 - 1s - loss: 0.0201\n",
      "Epoch 3/100\n",
      "94/94 - 1s - loss: 0.0161\n",
      "Epoch 4/100\n",
      "94/94 - 1s - loss: 0.0146\n",
      "Epoch 5/100\n",
      "94/94 - 1s - loss: 0.0135\n",
      "Epoch 6/100\n",
      "94/94 - 1s - loss: 0.0126\n",
      "Epoch 7/100\n",
      "94/94 - 1s - loss: 0.0117\n",
      "Epoch 8/100\n",
      "94/94 - 1s - loss: 0.0106\n",
      "Epoch 9/100\n",
      "94/94 - 1s - loss: 0.0094\n",
      "Epoch 10/100\n",
      "94/94 - 1s - loss: 0.0084\n",
      "Epoch 11/100\n",
      "94/94 - 1s - loss: 0.0075\n",
      "Epoch 12/100\n",
      "94/94 - 1s - loss: 0.0066\n",
      "Epoch 13/100\n",
      "94/94 - 1s - loss: 0.0058\n",
      "Epoch 14/100\n",
      "94/94 - 1s - loss: 0.0050\n",
      "Epoch 15/100\n",
      "94/94 - 1s - loss: 0.0043\n",
      "Epoch 16/100\n",
      "94/94 - 1s - loss: 0.0038\n",
      "Epoch 17/100\n",
      "94/94 - 1s - loss: 0.0033\n",
      "Epoch 18/100\n",
      "94/94 - 1s - loss: 0.0030\n",
      "Epoch 19/100\n",
      "94/94 - 1s - loss: 0.0027\n",
      "Epoch 20/100\n",
      "94/94 - 1s - loss: 0.0025\n",
      "Epoch 21/100\n",
      "94/94 - 1s - loss: 0.0024\n",
      "Epoch 22/100\n",
      "94/94 - 1s - loss: 0.0022\n",
      "Epoch 23/100\n",
      "94/94 - 1s - loss: 0.0022\n",
      "Epoch 24/100\n",
      "94/94 - 1s - loss: 0.0021\n",
      "Epoch 25/100\n",
      "94/94 - 1s - loss: 0.0021\n",
      "Epoch 26/100\n",
      "94/94 - 1s - loss: 0.0021\n",
      "Epoch 27/100\n",
      "94/94 - 1s - loss: 0.0021\n",
      "Epoch 28/100\n",
      "94/94 - 1s - loss: 0.0020\n",
      "Epoch 29/100\n",
      "94/94 - 1s - loss: 0.0021\n",
      "Epoch 30/100\n",
      "94/94 - 1s - loss: 0.0021\n",
      "Epoch 31/100\n",
      "94/94 - 1s - loss: 0.0021\n",
      "Epoch 32/100\n",
      "94/94 - 1s - loss: 0.0021\n",
      "Epoch 33/100\n",
      "94/94 - 1s - loss: 0.0021\n",
      "Epoch 34/100\n",
      "94/94 - 1s - loss: 0.0021\n",
      "Epoch 35/100\n",
      "94/94 - 1s - loss: 0.0020\n",
      "Epoch 36/100\n",
      "94/94 - 1s - loss: 0.0021\n",
      "Epoch 37/100\n",
      "94/94 - 1s - loss: 0.0021\n",
      "Epoch 38/100\n",
      "94/94 - 1s - loss: 0.0021\n",
      "Epoch 39/100\n",
      "94/94 - 1s - loss: 0.0021\n",
      "Epoch 40/100\n",
      "94/94 - 1s - loss: 0.0021\n",
      "Epoch 41/100\n",
      "94/94 - 1s - loss: 0.0021\n",
      "Epoch 42/100\n",
      "94/94 - 1s - loss: 0.0021\n",
      "Epoch 43/100\n",
      "94/94 - 1s - loss: 0.0021\n",
      "Epoch 44/100\n",
      "94/94 - 1s - loss: 0.0021\n",
      "Epoch 45/100\n",
      "94/94 - 1s - loss: 0.0021\n",
      "Epoch 46/100\n",
      "94/94 - 1s - loss: 0.0021\n",
      "Epoch 47/100\n",
      "94/94 - 1s - loss: 0.0021\n",
      "Epoch 48/100\n",
      "94/94 - 1s - loss: 0.0020\n",
      "Epoch 49/100\n",
      "94/94 - 1s - loss: 0.0021\n",
      "Epoch 50/100\n",
      "94/94 - 1s - loss: 0.0021\n",
      "Epoch 51/100\n",
      "94/94 - 1s - loss: 0.0020\n",
      "Epoch 52/100\n",
      "94/94 - 1s - loss: 0.0021\n",
      "Epoch 53/100\n",
      "94/94 - 1s - loss: 0.0020\n",
      "Epoch 54/100\n",
      "94/94 - 1s - loss: 0.0021\n",
      "Epoch 55/100\n",
      "94/94 - 1s - loss: 0.0021\n",
      "Epoch 56/100\n",
      "94/94 - 1s - loss: 0.0021\n",
      "Epoch 57/100\n",
      "94/94 - 1s - loss: 0.0019\n",
      "Epoch 58/100\n",
      "94/94 - 1s - loss: 0.0022\n",
      "Epoch 59/100\n",
      "94/94 - 1s - loss: 0.0021\n",
      "Epoch 60/100\n",
      "94/94 - 1s - loss: 0.0020\n",
      "Epoch 61/100\n",
      "94/94 - 1s - loss: 0.0021\n",
      "Epoch 62/100\n",
      "94/94 - 1s - loss: 0.0022\n",
      "Epoch 63/100\n",
      "94/94 - 1s - loss: 0.0021\n",
      "Epoch 64/100\n",
      "94/94 - 1s - loss: 0.0021\n",
      "Epoch 65/100\n",
      "94/94 - 1s - loss: 0.0020\n",
      "Epoch 66/100\n",
      "94/94 - 1s - loss: 0.0021\n",
      "Epoch 67/100\n",
      "94/94 - 1s - loss: 0.0022\n",
      "Epoch 68/100\n",
      "94/94 - 1s - loss: 0.0021\n",
      "Epoch 69/100\n",
      "94/94 - 1s - loss: 0.0021\n",
      "Epoch 70/100\n",
      "94/94 - 1s - loss: 0.0020\n",
      "Epoch 71/100\n",
      "94/94 - 1s - loss: 0.0021\n",
      "Epoch 72/100\n",
      "94/94 - 1s - loss: 0.0021\n",
      "Epoch 73/100\n",
      "94/94 - 1s - loss: 0.0020\n",
      "Epoch 74/100\n",
      "94/94 - 1s - loss: 0.0020\n",
      "Epoch 75/100\n",
      "94/94 - 1s - loss: 0.0020\n",
      "Epoch 76/100\n",
      "94/94 - 1s - loss: 0.0020\n",
      "Epoch 77/100\n",
      "94/94 - 1s - loss: 0.0022\n",
      "Epoch 78/100\n",
      "94/94 - 1s - loss: 0.0021\n",
      "Epoch 79/100\n",
      "94/94 - 1s - loss: 0.0020\n",
      "Epoch 80/100\n",
      "94/94 - 1s - loss: 0.0021\n",
      "Epoch 81/100\n",
      "94/94 - 1s - loss: 0.0020\n",
      "Epoch 82/100\n",
      "94/94 - 1s - loss: 0.0021\n",
      "Epoch 83/100\n",
      "94/94 - 1s - loss: 0.0020\n",
      "Epoch 84/100\n",
      "94/94 - 1s - loss: 0.0020\n",
      "Epoch 85/100\n",
      "94/94 - 1s - loss: 0.0021\n",
      "Epoch 86/100\n",
      "94/94 - 1s - loss: 0.0020\n",
      "Epoch 87/100\n",
      "94/94 - 1s - loss: 0.0020\n",
      "Epoch 88/100\n",
      "94/94 - 1s - loss: 0.0021\n",
      "Epoch 89/100\n",
      "94/94 - 1s - loss: 0.0020\n",
      "Epoch 90/100\n",
      "94/94 - 1s - loss: 0.0020\n",
      "Epoch 91/100\n",
      "94/94 - 1s - loss: 0.0021\n",
      "Epoch 92/100\n",
      "94/94 - 1s - loss: 0.0020\n",
      "Epoch 93/100\n",
      "94/94 - 1s - loss: 0.0021\n",
      "Epoch 94/100\n",
      "94/94 - 1s - loss: 0.0021\n",
      "Epoch 95/100\n",
      "94/94 - 1s - loss: 0.0021\n",
      "Epoch 96/100\n",
      "94/94 - 1s - loss: 0.0021\n",
      "Epoch 97/100\n",
      "94/94 - 1s - loss: 0.0021\n",
      "Epoch 98/100\n",
      "94/94 - 1s - loss: 0.0020\n",
      "Epoch 99/100\n",
      "94/94 - 1s - loss: 0.0021\n",
      "Epoch 100/100\n",
      "94/94 - 1s - loss: 0.0020\n"
     ]
    },
    {
     "data": {
      "text/plain": [
       "<tensorflow.python.keras.callbacks.History at 0x7f1d860afa00>"
      ]
     },
     "execution_count": 23,
     "metadata": {},
     "output_type": "execute_result"
    }
   ],
   "source": [
    "model.compile(loss=\"mean_squared_error\", optimizer=\"adam\")\n",
    "model.fit(X_train, y_train, epochs=100, batch_size=1, verbose=2)"
   ]
  },
  {
   "cell_type": "code",
   "execution_count": 25,
   "metadata": {},
   "outputs": [],
   "source": [
    "pred_train = model.predict(X_train)\n",
    "pred_test = model.predict(X_test)"
   ]
  },
  {
   "cell_type": "markdown",
   "metadata": {},
   "source": [
    "Next, we want to calculate the RMSE, but not that of the scaled dataset, but that of the original dataset, so we have to inverse transform our `pred_train` and `pred_test` back. "
   ]
  },
  {
   "cell_type": "code",
   "execution_count": 26,
   "metadata": {},
   "outputs": [
    {
     "data": {
      "text/plain": [
       "((94, 1), (46, 1))"
      ]
     },
     "execution_count": 26,
     "metadata": {},
     "output_type": "execute_result"
    }
   ],
   "source": [
    "pred_train_unscaled = scaler.inverse_transform(pred_train)\n",
    "pred_test_unscaled = scaler.inverse_transform(pred_test)\n",
    "pred_train_unscaled.shape, pred_test_unscaled.shape"
   ]
  },
  {
   "cell_type": "raw",
   "metadata": {},
   "source": [
    "y_train_unscaled = scaler.inverse_transform(y_train)\n",
    "y_test_unscaled = scaler.inverse_transform(y_test)\n",
    "y_train_unscaled.shape, y_test_unscaled.shape"
   ]
  },
  {
   "cell_type": "raw",
   "metadata": {},
   "source": [
    "ValueError: Expected 2D array, got 1D array instead:"
   ]
  },
  {
   "cell_type": "code",
   "execution_count": 28,
   "metadata": {},
   "outputs": [
    {
     "data": {
      "text/plain": [
       "((94, 1), (46, 1))"
      ]
     },
     "execution_count": 28,
     "metadata": {},
     "output_type": "execute_result"
    }
   ],
   "source": [
    "pred_train.shape, pred_test.shape"
   ]
  },
  {
   "cell_type": "code",
   "execution_count": 30,
   "metadata": {},
   "outputs": [
    {
     "data": {
      "text/plain": [
       "((94,), (46,))"
      ]
     },
     "execution_count": 30,
     "metadata": {},
     "output_type": "execute_result"
    }
   ],
   "source": [
    "y_train.shape, y_test.shape"
   ]
  },
  {
   "cell_type": "code",
   "execution_count": 31,
   "metadata": {},
   "outputs": [
    {
     "data": {
      "text/plain": [
       "((94, 1), (46, 1))"
      ]
     },
     "execution_count": 31,
     "metadata": {},
     "output_type": "execute_result"
    }
   ],
   "source": [
    "y_train_unscaled = scaler.inverse_transform(np.expand_dims(y_train, axis=-1))\n",
    "y_test_unscaled = scaler.inverse_transform(np.expand_dims(y_test, axis=-1))\n",
    "y_train_unscaled.shape, y_test_unscaled.shape"
   ]
  },
  {
   "cell_type": "code",
   "execution_count": 33,
   "metadata": {},
   "outputs": [],
   "source": [
    "from sklearn.metrics import mean_squared_error"
   ]
  },
  {
   "cell_type": "code",
   "execution_count": 36,
   "metadata": {},
   "outputs": [
    {
     "data": {
      "text/plain": [
       "(22.873537, 48.034576)"
      ]
     },
     "execution_count": 36,
     "metadata": {},
     "output_type": "execute_result"
    }
   ],
   "source": [
    "rmse_train = np.sqrt(mean_squared_error(pred_train_unscaled,\n",
    "                                        y_train_unscaled))\n",
    "rmse_test = np.sqrt(mean_squared_error(pred_test_unscaled,\n",
    "                                       y_test_unscaled))\n",
    "rmse_train, rmse_test"
   ]
  },
  {
   "cell_type": "code",
   "execution_count": 38,
   "metadata": {},
   "outputs": [
    {
     "data": {
      "text/plain": [
       "(144, 1)"
      ]
     },
     "execution_count": 38,
     "metadata": {},
     "output_type": "execute_result"
    }
   ],
   "source": [
    "dataset.shape"
   ]
  },
  {
   "cell_type": "code",
   "execution_count": 47,
   "metadata": {},
   "outputs": [
    {
     "data": {
      "image/png": "[encoded data removed]",
      "text/plain": [
       "<Figure size 720x504 with 1 Axes>"
      ]
     },
     "metadata": {
      "needs_background": "light"
     },
     "output_type": "display_data"
    }
   ],
   "source": [
    "plt.figure(figsize=(10,7))\n",
    "plt.plot(dataset)\n",
    "plt.plot(range(1, train_size-1), pred_train_unscaled)\n",
    "plt.plot(range(train_size+1, len(dataset)-1),\n",
    "         pred_test_unscaled);"
   ]
  },
  {
   "cell_type": "code",
   "execution_count": null,
   "metadata": {},
   "outputs": [],
   "source": []
  }
 ],
 "metadata": {
  "kernelspec": {
   "display_name": "Python 3",
   "language": "python",
   "name": "python3"
  },
  "language_info": {
   "codemirror_mode": {
    "name": "ipython",
    "version": 3
   },
   "file_extension": ".py",
   "mimetype": "text/x-python",
   "name": "python",
   "nbconvert_exporter": "python",
   "pygments_lexer": "ipython3",
   "version": "3.8.5"
  }
 },
 "nbformat": 4,
 "nbformat_minor": 5
}
